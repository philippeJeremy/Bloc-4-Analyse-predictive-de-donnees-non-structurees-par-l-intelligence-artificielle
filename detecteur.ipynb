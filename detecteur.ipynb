{
 "cells": [
  {
   "cell_type": "code",
   "execution_count": 1,
   "metadata": {},
   "outputs": [],
   "source": [
    "import os\n",
    "import io\n",
    "import en_core_web_lg\n",
    "\n",
    "import pandas as pd \n",
    "import tensorflow as tf \n",
    "import plotly.express as px\n",
    "import tensorflow_hub as hub\n",
    "import matplotlib.pyplot as plt\n",
    "import plotly.graph_objects as go\n",
    "\n",
    "from sklearn.preprocessing import LabelEncoder\n",
    "from spacy.lang.en.stop_words import STOP_WORDS\n",
    "from sklearn.model_selection import train_test_split\n",
    "\n",
    "nlp = en_core_web_lg.load()"
   ]
  },
  {
   "cell_type": "code",
   "execution_count": 2,
   "metadata": {},
   "outputs": [],
   "source": [
    "df = pd.read_csv('spam.csv', encoding=\"ISO-8859-1\")"
   ]
  },
  {
   "cell_type": "code",
   "execution_count": 3,
   "metadata": {},
   "outputs": [
    {
     "data": {
      "text/html": [
       "<div>\n",
       "<style scoped>\n",
       "    .dataframe tbody tr th:only-of-type {\n",
       "        vertical-align: middle;\n",
       "    }\n",
       "\n",
       "    .dataframe tbody tr th {\n",
       "        vertical-align: top;\n",
       "    }\n",
       "\n",
       "    .dataframe thead th {\n",
       "        text-align: right;\n",
       "    }\n",
       "</style>\n",
       "<table border=\"1\" class=\"dataframe\">\n",
       "  <thead>\n",
       "    <tr style=\"text-align: right;\">\n",
       "      <th></th>\n",
       "      <th>v1</th>\n",
       "      <th>v2</th>\n",
       "      <th>Unnamed: 2</th>\n",
       "      <th>Unnamed: 3</th>\n",
       "      <th>Unnamed: 4</th>\n",
       "    </tr>\n",
       "  </thead>\n",
       "  <tbody>\n",
       "    <tr>\n",
       "      <th>0</th>\n",
       "      <td>ham</td>\n",
       "      <td>Go until jurong point, crazy.. Available only ...</td>\n",
       "      <td>NaN</td>\n",
       "      <td>NaN</td>\n",
       "      <td>NaN</td>\n",
       "    </tr>\n",
       "    <tr>\n",
       "      <th>1</th>\n",
       "      <td>ham</td>\n",
       "      <td>Ok lar... Joking wif u oni...</td>\n",
       "      <td>NaN</td>\n",
       "      <td>NaN</td>\n",
       "      <td>NaN</td>\n",
       "    </tr>\n",
       "    <tr>\n",
       "      <th>2</th>\n",
       "      <td>spam</td>\n",
       "      <td>Free entry in 2 a wkly comp to win FA Cup fina...</td>\n",
       "      <td>NaN</td>\n",
       "      <td>NaN</td>\n",
       "      <td>NaN</td>\n",
       "    </tr>\n",
       "    <tr>\n",
       "      <th>3</th>\n",
       "      <td>ham</td>\n",
       "      <td>U dun say so early hor... U c already then say...</td>\n",
       "      <td>NaN</td>\n",
       "      <td>NaN</td>\n",
       "      <td>NaN</td>\n",
       "    </tr>\n",
       "    <tr>\n",
       "      <th>4</th>\n",
       "      <td>ham</td>\n",
       "      <td>Nah I don't think he goes to usf, he lives aro...</td>\n",
       "      <td>NaN</td>\n",
       "      <td>NaN</td>\n",
       "      <td>NaN</td>\n",
       "    </tr>\n",
       "    <tr>\n",
       "      <th>...</th>\n",
       "      <td>...</td>\n",
       "      <td>...</td>\n",
       "      <td>...</td>\n",
       "      <td>...</td>\n",
       "      <td>...</td>\n",
       "    </tr>\n",
       "    <tr>\n",
       "      <th>5567</th>\n",
       "      <td>spam</td>\n",
       "      <td>This is the 2nd time we have tried 2 contact u...</td>\n",
       "      <td>NaN</td>\n",
       "      <td>NaN</td>\n",
       "      <td>NaN</td>\n",
       "    </tr>\n",
       "    <tr>\n",
       "      <th>5568</th>\n",
       "      <td>ham</td>\n",
       "      <td>Will Ì_ b going to esplanade fr home?</td>\n",
       "      <td>NaN</td>\n",
       "      <td>NaN</td>\n",
       "      <td>NaN</td>\n",
       "    </tr>\n",
       "    <tr>\n",
       "      <th>5569</th>\n",
       "      <td>ham</td>\n",
       "      <td>Pity, * was in mood for that. So...any other s...</td>\n",
       "      <td>NaN</td>\n",
       "      <td>NaN</td>\n",
       "      <td>NaN</td>\n",
       "    </tr>\n",
       "    <tr>\n",
       "      <th>5570</th>\n",
       "      <td>ham</td>\n",
       "      <td>The guy did some bitching but I acted like i'd...</td>\n",
       "      <td>NaN</td>\n",
       "      <td>NaN</td>\n",
       "      <td>NaN</td>\n",
       "    </tr>\n",
       "    <tr>\n",
       "      <th>5571</th>\n",
       "      <td>ham</td>\n",
       "      <td>Rofl. Its true to its name</td>\n",
       "      <td>NaN</td>\n",
       "      <td>NaN</td>\n",
       "      <td>NaN</td>\n",
       "    </tr>\n",
       "  </tbody>\n",
       "</table>\n",
       "<p>5572 rows × 5 columns</p>\n",
       "</div>"
      ],
      "text/plain": [
       "        v1                                                 v2 Unnamed: 2  \\\n",
       "0      ham  Go until jurong point, crazy.. Available only ...        NaN   \n",
       "1      ham                      Ok lar... Joking wif u oni...        NaN   \n",
       "2     spam  Free entry in 2 a wkly comp to win FA Cup fina...        NaN   \n",
       "3      ham  U dun say so early hor... U c already then say...        NaN   \n",
       "4      ham  Nah I don't think he goes to usf, he lives aro...        NaN   \n",
       "...    ...                                                ...        ...   \n",
       "5567  spam  This is the 2nd time we have tried 2 contact u...        NaN   \n",
       "5568   ham              Will Ì_ b going to esplanade fr home?        NaN   \n",
       "5569   ham  Pity, * was in mood for that. So...any other s...        NaN   \n",
       "5570   ham  The guy did some bitching but I acted like i'd...        NaN   \n",
       "5571   ham                         Rofl. Its true to its name        NaN   \n",
       "\n",
       "     Unnamed: 3 Unnamed: 4  \n",
       "0           NaN        NaN  \n",
       "1           NaN        NaN  \n",
       "2           NaN        NaN  \n",
       "3           NaN        NaN  \n",
       "4           NaN        NaN  \n",
       "...         ...        ...  \n",
       "5567        NaN        NaN  \n",
       "5568        NaN        NaN  \n",
       "5569        NaN        NaN  \n",
       "5570        NaN        NaN  \n",
       "5571        NaN        NaN  \n",
       "\n",
       "[5572 rows x 5 columns]"
      ]
     },
     "execution_count": 3,
     "metadata": {},
     "output_type": "execute_result"
    }
   ],
   "source": [
    "df"
   ]
  },
  {
   "cell_type": "code",
   "execution_count": 4,
   "metadata": {},
   "outputs": [
    {
     "data": {
      "text/plain": [
       "v1             0.000000\n",
       "v2             0.000000\n",
       "Unnamed: 2    99.102656\n",
       "Unnamed: 3    99.784637\n",
       "Unnamed: 4    99.892319\n",
       "dtype: float64"
      ]
     },
     "metadata": {},
     "output_type": "display_data"
    }
   ],
   "source": [
    "display(100*df.isnull().sum()/df.shape[0])"
   ]
  },
  {
   "cell_type": "code",
   "execution_count": 5,
   "metadata": {},
   "outputs": [],
   "source": [
    "# delete empty columns\n",
    "df.drop(columns=[\"Unnamed: 2\", \"Unnamed: 3\", \"Unnamed: 4\"], inplace=True)"
   ]
  },
  {
   "cell_type": "code",
   "execution_count": 6,
   "metadata": {},
   "outputs": [],
   "source": [
    "# data cleaning with lemmatization\n",
    "df[\"review_clean\"] = df[\"v2\"].apply(lambda x:''.join(ch for ch in x if ch.isalnum() or ch==\" \" or ch==\"'\"))\n",
    "df[\"review_clean\"] = df[\"review_clean\"].apply(lambda x: x.replace(\" +\",\" \").lower().strip())\n",
    "df[\"review_clean\"] = df[\"review_clean\"].apply(lambda x: \" \".join([token.lemma_ for token in nlp(x) if (token.lemma_ not in STOP_WORDS) and (token.text not in STOP_WORDS)]))\n",
    "df[\"len_review\"] = df[\"review_clean\"].apply(lambda x: len(x))\n",
    "# label encoding\n",
    "label = LabelEncoder()\n",
    "df['target'] = label.fit_transform(df['v1'])"
   ]
  },
  {
   "cell_type": "code",
   "execution_count": 7,
   "metadata": {},
   "outputs": [
    {
     "data": {
      "text/plain": [
       "v1              0.0\n",
       "v2              0.0\n",
       "review_clean    0.0\n",
       "len_review      0.0\n",
       "target          0.0\n",
       "dtype: float64"
      ]
     },
     "metadata": {},
     "output_type": "display_data"
    }
   ],
   "source": [
    "display(100*df.isnull().sum()/df.shape[0])"
   ]
  },
  {
   "cell_type": "code",
   "execution_count": 8,
   "metadata": {},
   "outputs": [
    {
     "data": {
      "text/plain": [
       "<AxesSubplot: >"
      ]
     },
     "execution_count": 8,
     "metadata": {},
     "output_type": "execute_result"
    },
    {
     "data": {
      "image/png": "[encoded data removed]",
      "text/plain": [
       "<Figure size 640x480 with 1 Axes>"
      ]
     },
     "metadata": {},
     "output_type": "display_data"
    }
   ],
   "source": [
    "df['len_review'].value_counts().sort_index().plot(kind='bar')"
   ]
  },
  {
   "cell_type": "code",
   "execution_count": 9,
   "metadata": {},
   "outputs": [],
   "source": [
    "# text-to-digital transformation for computer comprehension\n",
    "tokenizer = tf.keras.preprocessing.text.Tokenizer(num_words=1000) \n",
    "tokenizer.fit_on_texts(df[\"review_clean\"])\n",
    "df[\"review_encoded\"] = tokenizer.texts_to_sequences(df[\"review_clean\"])"
   ]
  },
  {
   "cell_type": "code",
   "execution_count": 10,
   "metadata": {},
   "outputs": [],
   "source": [
    "# addition of a pading to have an entry shape in the model which is identical\n",
    "reviews_pad = tf.keras.preprocessing.sequence.pad_sequences(df[\"review_encoded\"], padding=\"post\")\n",
    "# creation of test data and validation\n",
    "xtrain, xval, ytrain, yval = train_test_split(reviews_pad,df[\"target\"], test_size=0.3)\n",
    "\n",
    "train = tf.data.Dataset.from_tensor_slices((xtrain, ytrain))\n",
    "val = tf.data.Dataset.from_tensor_slices((xval, yval))\n",
    "\n",
    "train_batch = train.shuffle(len(train)).batch(64)\n",
    "val_batch = val.shuffle(len(val)).batch(64)"
   ]
  },
  {
   "cell_type": "code",
   "execution_count": 11,
   "metadata": {},
   "outputs": [
    {
     "name": "stdout",
     "output_type": "stream",
     "text": [
      "tf.Tensor(\n",
      "[[ 65 113 470 ...   0   0   0]\n",
      " [ 47 108 355 ...   0   0   0]\n",
      " [ 18 513 492 ...   0   0   0]\n",
      " ...\n",
      " [ 10 928 329 ...   0   0   0]\n",
      " [  0   0   0 ...   0   0   0]\n",
      " [859  49  13 ...   0   0   0]], shape=(64, 54), dtype=int32) tf.Tensor(\n",
      "[0 0 0 0 0 0 0 0 0 0 0 0 0 0 1 0 0 0 0 1 0 0 0 1 0 0 0 0 0 0 1 1 0 0 0 0 0\n",
      " 0 0 0 1 0 0 0 0 0 0 0 0 0 0 0 0 0 0 0 0 0 0 0 0 0 0 0], shape=(64,), dtype=int32)\n"
     ]
    }
   ],
   "source": [
    "for review, star in train_batch.take(1):\n",
    "  print(review, star)"
   ]
  },
  {
   "cell_type": "code",
   "execution_count": 12,
   "metadata": {},
   "outputs": [
    {
     "data": {
      "image/png": "[encoded data removed]",
      "text/plain": [
       "<IPython.core.display.Image object>"
      ]
     },
     "execution_count": 12,
     "metadata": {},
     "output_type": "execute_result"
    }
   ],
   "source": [
    "# creation of the model\n",
    "vocab_size = len(tokenizer.word_index)\n",
    "model = tf.keras.Sequential([             \n",
    "            tf.keras.layers.Embedding(vocab_size+1, 8, input_shape=[review.shape[1],],name=\"embedding\"),  \n",
    "            tf.keras.layers.GlobalAveragePooling1D(),\n",
    "            tf.keras.layers.Dense(32, activation='relu'),\n",
    "            tf.keras.layers.Dropout(0.2),  \n",
    "            tf.keras.layers.Dense(16, activation='relu'),      \n",
    "            tf.keras.layers.Dense(1, activation=\"sigmoid\")\n",
    "                ])\n",
    "\n",
    "tf.keras.utils.plot_model(model, show_shapes=True)"
   ]
  },
  {
   "cell_type": "code",
   "execution_count": 13,
   "metadata": {},
   "outputs": [],
   "source": [
    "# determination of loss and accuracy calculation data\n",
    "optimizer= tf.keras.optimizers.Adam(learning_rate=0.001)\n",
    "\n",
    "model.compile(optimizer=optimizer,\n",
    "              loss=tf.keras.losses.BinaryCrossentropy(),\n",
    "              metrics=[\"accuracy\"])"
   ]
  },
  {
   "cell_type": "code",
   "execution_count": 14,
   "metadata": {},
   "outputs": [
    {
     "name": "stdout",
     "output_type": "stream",
     "text": [
      "Model: \"sequential\"\n",
      "_________________________________________________________________\n",
      " Layer (type)                Output Shape              Param #   \n",
      "=================================================================\n",
      " embedding (Embedding)       (None, 54, 8)             65528     \n",
      "                                                                 \n",
      " global_average_pooling1d (G  (None, 8)                0         \n",
      " lobalAveragePooling1D)                                          \n",
      "                                                                 \n",
      " dense (Dense)               (None, 32)                288       \n",
      "                                                                 \n",
      " dropout (Dropout)           (None, 32)                0         \n",
      "                                                                 \n",
      " dense_1 (Dense)             (None, 16)                528       \n",
      "                                                                 \n",
      " dense_2 (Dense)             (None, 1)                 17        \n",
      "                                                                 \n",
      "=================================================================\n",
      "Total params: 66,361\n",
      "Trainable params: 66,361\n",
      "Non-trainable params: 0\n",
      "_________________________________________________________________\n"
     ]
    }
   ],
   "source": [
    "# visualization of the model\n",
    "model.summary()"
   ]
  },
  {
   "cell_type": "code",
   "execution_count": 15,
   "metadata": {},
   "outputs": [],
   "source": [
    "weights = 1/(df[\"target\"]).value_counts()\n",
    "weights = weights * len(df)/13\n",
    "weights = {index: values for index,\n",
    "            values in zip(weights.index, weights.values)}"
   ]
  },
  {
   "cell_type": "code",
   "execution_count": 16,
   "metadata": {},
   "outputs": [
    {
     "name": "stdout",
     "output_type": "stream",
     "text": [
      "WARNING:tensorflow:`period` argument is deprecated. Please use `save_freq` to specify the frequency in number of batches seen.\n"
     ]
    }
   ],
   "source": [
    "Checkpoint_create = tf.keras.callbacks.ModelCheckpoint(\n",
    "                        filepath='model_weights.hdf5',\n",
    "                        monitor='val_loss',\n",
    "                        verbose=1,\n",
    "                        save_best_only=True,\n",
    "                        save_weights_only=False,\n",
    "                        mode='auto',\n",
    "                        save_freq='epoch',\n",
    "                        period=1)"
   ]
  },
  {
   "cell_type": "code",
   "execution_count": 17,
   "metadata": {},
   "outputs": [
    {
     "name": "stdout",
     "output_type": "stream",
     "text": [
      "Epoch 1/20\n",
      "43/61 [====================>.........] - ETA: 0s - loss: 0.1076 - accuracy: 0.6944 \n",
      "Epoch 1: val_loss improved from inf to 0.68896, saving model to model_weights.hdf5\n",
      "61/61 [==============================] - 1s 4ms/step - loss: 0.1071 - accuracy: 0.7349 - val_loss: 0.6890 - val_accuracy: 0.8720\n",
      "Epoch 2/20\n",
      "44/61 [====================>.........] - ETA: 0s - loss: 0.1066 - accuracy: 0.8697\n",
      "Epoch 2: val_loss improved from 0.68896 to 0.66498, saving model to model_weights.hdf5\n",
      "61/61 [==============================] - 0s 2ms/step - loss: 0.1061 - accuracy: 0.8797 - val_loss: 0.6650 - val_accuracy: 0.9354\n",
      "Epoch 3/20\n",
      "47/61 [======================>.......] - ETA: 0s - loss: 0.1026 - accuracy: 0.9355\n",
      "Epoch 3: val_loss improved from 0.66498 to 0.52084, saving model to model_weights.hdf5\n",
      "61/61 [==============================] - 0s 2ms/step - loss: 0.0996 - accuracy: 0.9397 - val_loss: 0.5208 - val_accuracy: 0.9480\n",
      "Epoch 4/20\n",
      "48/61 [======================>.......] - ETA: 0s - loss: 0.0771 - accuracy: 0.9658\n",
      "Epoch 4: val_loss improved from 0.52084 to 0.31578, saving model to model_weights.hdf5\n",
      "61/61 [==============================] - 0s 2ms/step - loss: 0.0736 - accuracy: 0.9659 - val_loss: 0.3158 - val_accuracy: 0.9755\n",
      "Epoch 5/20\n",
      "44/61 [====================>.........] - ETA: 0s - loss: 0.0434 - accuracy: 0.9741\n",
      "Epoch 5: val_loss improved from 0.31578 to 0.15021, saving model to model_weights.hdf5\n",
      "61/61 [==============================] - 0s 2ms/step - loss: 0.0407 - accuracy: 0.9726 - val_loss: 0.1502 - val_accuracy: 0.9791\n",
      "Epoch 6/20\n",
      "39/61 [==================>...........] - ETA: 0s - loss: 0.0274 - accuracy: 0.9728\n",
      "Epoch 6: val_loss improved from 0.15021 to 0.12516, saving model to model_weights.hdf5\n",
      "61/61 [==============================] - 0s 2ms/step - loss: 0.0263 - accuracy: 0.9762 - val_loss: 0.1252 - val_accuracy: 0.9761\n",
      "Epoch 7/20\n",
      "47/61 [======================>.......] - ETA: 0s - loss: 0.0208 - accuracy: 0.9767\n",
      "Epoch 7: val_loss improved from 0.12516 to 0.10570, saving model to model_weights.hdf5\n",
      "61/61 [==============================] - 0s 2ms/step - loss: 0.0205 - accuracy: 0.9764 - val_loss: 0.1057 - val_accuracy: 0.9797\n",
      "Epoch 8/20\n",
      "48/61 [======================>.......] - ETA: 0s - loss: 0.0192 - accuracy: 0.9749\n",
      "Epoch 8: val_loss improved from 0.10570 to 0.06693, saving model to model_weights.hdf5\n",
      "61/61 [==============================] - 0s 2ms/step - loss: 0.0183 - accuracy: 0.9774 - val_loss: 0.0669 - val_accuracy: 0.9815\n",
      "Epoch 9/20\n",
      "47/61 [======================>.......] - ETA: 0s - loss: 0.0140 - accuracy: 0.9840\n",
      "Epoch 9: val_loss did not improve from 0.06693\n",
      "61/61 [==============================] - 0s 2ms/step - loss: 0.0139 - accuracy: 0.9818 - val_loss: 0.0791 - val_accuracy: 0.9827\n",
      "Epoch 10/20\n",
      "44/61 [====================>.........] - ETA: 0s - loss: 0.0112 - accuracy: 0.9869\n",
      "Epoch 10: val_loss did not improve from 0.06693\n",
      "61/61 [==============================] - 0s 2ms/step - loss: 0.0127 - accuracy: 0.9846 - val_loss: 0.1034 - val_accuracy: 0.9731\n",
      "Epoch 11/20\n",
      "48/61 [======================>.......] - ETA: 0s - loss: 0.0129 - accuracy: 0.9818\n",
      "Epoch 11: val_loss did not improve from 0.06693\n",
      "61/61 [==============================] - 0s 2ms/step - loss: 0.0125 - accuracy: 0.9831 - val_loss: 0.0852 - val_accuracy: 0.9791\n",
      "Epoch 12/20\n",
      "47/61 [======================>.......] - ETA: 0s - loss: 0.0112 - accuracy: 0.9860\n",
      "Epoch 12: val_loss improved from 0.06693 to 0.05154, saving model to model_weights.hdf5\n",
      "61/61 [==============================] - 0s 2ms/step - loss: 0.0109 - accuracy: 0.9841 - val_loss: 0.0515 - val_accuracy: 0.9839\n",
      "Epoch 13/20\n",
      "50/61 [=======================>......] - ETA: 0s - loss: 0.0114 - accuracy: 0.9831\n",
      "Epoch 13: val_loss did not improve from 0.05154\n",
      "61/61 [==============================] - 0s 2ms/step - loss: 0.0111 - accuracy: 0.9836 - val_loss: 0.0724 - val_accuracy: 0.9791\n",
      "Epoch 14/20\n",
      "36/61 [================>.............] - ETA: 0s - loss: 0.0074 - accuracy: 0.9887\n",
      "Epoch 14: val_loss did not improve from 0.05154\n",
      "61/61 [==============================] - 0s 2ms/step - loss: 0.0095 - accuracy: 0.9844 - val_loss: 0.0923 - val_accuracy: 0.9755\n",
      "Epoch 15/20\n",
      "44/61 [====================>.........] - ETA: 0s - loss: 0.0070 - accuracy: 0.9915\n",
      "Epoch 15: val_loss did not improve from 0.05154\n",
      "61/61 [==============================] - 0s 2ms/step - loss: 0.0074 - accuracy: 0.9895 - val_loss: 0.0622 - val_accuracy: 0.9839\n",
      "Epoch 16/20\n",
      "46/61 [=====================>........] - ETA: 0s - loss: 0.0093 - accuracy: 0.9840\n",
      "Epoch 16: val_loss did not improve from 0.05154\n",
      "61/61 [==============================] - 0s 2ms/step - loss: 0.0089 - accuracy: 0.9856 - val_loss: 0.0780 - val_accuracy: 0.9779\n",
      "Epoch 17/20\n",
      "47/61 [======================>.......] - ETA: 0s - loss: 0.0077 - accuracy: 0.9864\n",
      "Epoch 17: val_loss did not improve from 0.05154\n",
      "61/61 [==============================] - 0s 2ms/step - loss: 0.0074 - accuracy: 0.9864 - val_loss: 0.0592 - val_accuracy: 0.9833\n",
      "Epoch 18/20\n",
      "46/61 [=====================>........] - ETA: 0s - loss: 0.0073 - accuracy: 0.9908\n",
      "Epoch 18: val_loss did not improve from 0.05154\n",
      "61/61 [==============================] - 0s 2ms/step - loss: 0.0067 - accuracy: 0.9905 - val_loss: 0.0559 - val_accuracy: 0.9839\n",
      "Epoch 19/20\n",
      "47/61 [======================>.......] - ETA: 0s - loss: 0.0051 - accuracy: 0.9907\n",
      "Epoch 19: val_loss did not improve from 0.05154\n",
      "61/61 [==============================] - 0s 2ms/step - loss: 0.0058 - accuracy: 0.9915 - val_loss: 0.0559 - val_accuracy: 0.9839\n",
      "Epoch 20/20\n",
      "48/61 [======================>.......] - ETA: 0s - loss: 0.0053 - accuracy: 0.9912\n",
      "Epoch 20: val_loss did not improve from 0.05154\n",
      "61/61 [==============================] - 0s 2ms/step - loss: 0.0058 - accuracy: 0.9900 - val_loss: 0.0659 - val_accuracy: 0.9815\n"
     ]
    },
    {
     "data": {
      "text/plain": [
       "<keras.callbacks.History at 0x27231297700>"
      ]
     },
     "execution_count": 17,
     "metadata": {},
     "output_type": "execute_result"
    }
   ],
   "source": [
    "# train model\n",
    "model.fit(train_batch, \n",
    "            epochs=20, \n",
    "            validation_data=val_batch,\n",
    "            class_weight=weights,\n",
    "            callbacks=Checkpoint_create)"
   ]
  },
  {
   "cell_type": "code",
   "execution_count": 18,
   "metadata": {},
   "outputs": [
    {
     "data": {
      "text/html": [
       "<div>\n",
       "<style scoped>\n",
       "    .dataframe tbody tr th:only-of-type {\n",
       "        vertical-align: middle;\n",
       "    }\n",
       "\n",
       "    .dataframe tbody tr th {\n",
       "        vertical-align: top;\n",
       "    }\n",
       "\n",
       "    .dataframe thead th {\n",
       "        text-align: right;\n",
       "    }\n",
       "</style>\n",
       "<table border=\"1\" class=\"dataframe\">\n",
       "  <thead>\n",
       "    <tr style=\"text-align: right;\">\n",
       "      <th></th>\n",
       "      <th>loss</th>\n",
       "      <th>accuracy</th>\n",
       "      <th>val_loss</th>\n",
       "      <th>val_accuracy</th>\n",
       "    </tr>\n",
       "  </thead>\n",
       "  <tbody>\n",
       "    <tr>\n",
       "      <th>0</th>\n",
       "      <td>0.107053</td>\n",
       "      <td>0.734872</td>\n",
       "      <td>0.688958</td>\n",
       "      <td>0.872010</td>\n",
       "    </tr>\n",
       "    <tr>\n",
       "      <th>1</th>\n",
       "      <td>0.106095</td>\n",
       "      <td>0.879744</td>\n",
       "      <td>0.664982</td>\n",
       "      <td>0.935407</td>\n",
       "    </tr>\n",
       "    <tr>\n",
       "      <th>2</th>\n",
       "      <td>0.099623</td>\n",
       "      <td>0.939744</td>\n",
       "      <td>0.520842</td>\n",
       "      <td>0.947967</td>\n",
       "    </tr>\n",
       "    <tr>\n",
       "      <th>3</th>\n",
       "      <td>0.073569</td>\n",
       "      <td>0.965897</td>\n",
       "      <td>0.315781</td>\n",
       "      <td>0.975478</td>\n",
       "    </tr>\n",
       "    <tr>\n",
       "      <th>4</th>\n",
       "      <td>0.040665</td>\n",
       "      <td>0.972564</td>\n",
       "      <td>0.150214</td>\n",
       "      <td>0.979067</td>\n",
       "    </tr>\n",
       "    <tr>\n",
       "      <th>5</th>\n",
       "      <td>0.026254</td>\n",
       "      <td>0.976154</td>\n",
       "      <td>0.125159</td>\n",
       "      <td>0.976077</td>\n",
       "    </tr>\n",
       "    <tr>\n",
       "      <th>6</th>\n",
       "      <td>0.020502</td>\n",
       "      <td>0.976410</td>\n",
       "      <td>0.105701</td>\n",
       "      <td>0.979665</td>\n",
       "    </tr>\n",
       "    <tr>\n",
       "      <th>7</th>\n",
       "      <td>0.018333</td>\n",
       "      <td>0.977436</td>\n",
       "      <td>0.066929</td>\n",
       "      <td>0.981459</td>\n",
       "    </tr>\n",
       "    <tr>\n",
       "      <th>8</th>\n",
       "      <td>0.013935</td>\n",
       "      <td>0.981795</td>\n",
       "      <td>0.079136</td>\n",
       "      <td>0.982656</td>\n",
       "    </tr>\n",
       "    <tr>\n",
       "      <th>9</th>\n",
       "      <td>0.012672</td>\n",
       "      <td>0.984615</td>\n",
       "      <td>0.103423</td>\n",
       "      <td>0.973086</td>\n",
       "    </tr>\n",
       "    <tr>\n",
       "      <th>10</th>\n",
       "      <td>0.012508</td>\n",
       "      <td>0.983077</td>\n",
       "      <td>0.085210</td>\n",
       "      <td>0.979067</td>\n",
       "    </tr>\n",
       "    <tr>\n",
       "      <th>11</th>\n",
       "      <td>0.010863</td>\n",
       "      <td>0.984103</td>\n",
       "      <td>0.051537</td>\n",
       "      <td>0.983852</td>\n",
       "    </tr>\n",
       "    <tr>\n",
       "      <th>12</th>\n",
       "      <td>0.011136</td>\n",
       "      <td>0.983590</td>\n",
       "      <td>0.072420</td>\n",
       "      <td>0.979067</td>\n",
       "    </tr>\n",
       "    <tr>\n",
       "      <th>13</th>\n",
       "      <td>0.009517</td>\n",
       "      <td>0.984359</td>\n",
       "      <td>0.092319</td>\n",
       "      <td>0.975478</td>\n",
       "    </tr>\n",
       "    <tr>\n",
       "      <th>14</th>\n",
       "      <td>0.007439</td>\n",
       "      <td>0.989487</td>\n",
       "      <td>0.062179</td>\n",
       "      <td>0.983852</td>\n",
       "    </tr>\n",
       "    <tr>\n",
       "      <th>15</th>\n",
       "      <td>0.008946</td>\n",
       "      <td>0.985641</td>\n",
       "      <td>0.078049</td>\n",
       "      <td>0.977871</td>\n",
       "    </tr>\n",
       "    <tr>\n",
       "      <th>16</th>\n",
       "      <td>0.007415</td>\n",
       "      <td>0.986410</td>\n",
       "      <td>0.059166</td>\n",
       "      <td>0.983254</td>\n",
       "    </tr>\n",
       "    <tr>\n",
       "      <th>17</th>\n",
       "      <td>0.006672</td>\n",
       "      <td>0.990513</td>\n",
       "      <td>0.055871</td>\n",
       "      <td>0.983852</td>\n",
       "    </tr>\n",
       "    <tr>\n",
       "      <th>18</th>\n",
       "      <td>0.005822</td>\n",
       "      <td>0.991538</td>\n",
       "      <td>0.055941</td>\n",
       "      <td>0.983852</td>\n",
       "    </tr>\n",
       "    <tr>\n",
       "      <th>19</th>\n",
       "      <td>0.005823</td>\n",
       "      <td>0.990000</td>\n",
       "      <td>0.065863</td>\n",
       "      <td>0.981459</td>\n",
       "    </tr>\n",
       "  </tbody>\n",
       "</table>\n",
       "</div>"
      ],
      "text/plain": [
       "        loss  accuracy  val_loss  val_accuracy\n",
       "0   0.107053  0.734872  0.688958      0.872010\n",
       "1   0.106095  0.879744  0.664982      0.935407\n",
       "2   0.099623  0.939744  0.520842      0.947967\n",
       "3   0.073569  0.965897  0.315781      0.975478\n",
       "4   0.040665  0.972564  0.150214      0.979067\n",
       "5   0.026254  0.976154  0.125159      0.976077\n",
       "6   0.020502  0.976410  0.105701      0.979665\n",
       "7   0.018333  0.977436  0.066929      0.981459\n",
       "8   0.013935  0.981795  0.079136      0.982656\n",
       "9   0.012672  0.984615  0.103423      0.973086\n",
       "10  0.012508  0.983077  0.085210      0.979067\n",
       "11  0.010863  0.984103  0.051537      0.983852\n",
       "12  0.011136  0.983590  0.072420      0.979067\n",
       "13  0.009517  0.984359  0.092319      0.975478\n",
       "14  0.007439  0.989487  0.062179      0.983852\n",
       "15  0.008946  0.985641  0.078049      0.977871\n",
       "16  0.007415  0.986410  0.059166      0.983254\n",
       "17  0.006672  0.990513  0.055871      0.983852\n",
       "18  0.005822  0.991538  0.055941      0.983852\n",
       "19  0.005823  0.990000  0.065863      0.981459"
      ]
     },
     "execution_count": 18,
     "metadata": {},
     "output_type": "execute_result"
    }
   ],
   "source": [
    "# accuracy score and loss\n",
    "history_model = pd.DataFrame(model.history.history)\n",
    "history_model"
   ]
  },
  {
   "cell_type": "code",
   "execution_count": 19,
   "metadata": {},
   "outputs": [
    {
     "data": {
      "image/png": "[encoded data removed]",
      "text/plain": [
       "<Figure size 640x480 with 1 Axes>"
      ]
     },
     "metadata": {},
     "output_type": "display_data"
    }
   ],
   "source": [
    "# visualization of the loss\n",
    "plt.plot(history_model[\"loss\"], color=\"b\")\n",
    "plt.plot(history_model[\"val_loss\"], color=\"r\")\n",
    "plt.ylabel(\"loss\")\n",
    "plt.xlabel(\"Epochs\")\n",
    "plt.show()"
   ]
  },
  {
   "cell_type": "code",
   "execution_count": 20,
   "metadata": {},
   "outputs": [
    {
     "data": {
      "image/png": "[encoded data removed]",
      "text/plain": [
       "<Figure size 640x480 with 1 Axes>"
      ]
     },
     "metadata": {},
     "output_type": "display_data"
    }
   ],
   "source": [
    "# visualization of accuracy\n",
    "plt.plot(history_model[\"accuracy\"], color=\"b\")\n",
    "plt.plot(history_model[\"val_accuracy\"], color=\"r\")\n",
    "plt.ylabel(\"accuracy\")\n",
    "plt.xlabel(\"Epochs\")\n",
    "plt.show()"
   ]
  },
  {
   "attachments": {},
   "cell_type": "markdown",
   "metadata": {},
   "source": [
    "## test on a model already usable download via tenserflow hub"
   ]
  },
  {
   "cell_type": "code",
   "execution_count": 21,
   "metadata": {},
   "outputs": [],
   "source": [
    "df = pd.read_csv('spam.csv', encoding=\"ISO-8859-1\")"
   ]
  },
  {
   "cell_type": "code",
   "execution_count": 22,
   "metadata": {},
   "outputs": [],
   "source": [
    "label = LabelEncoder()\n",
    "df['target'] = label.fit_transform(df['v1'])"
   ]
  },
  {
   "cell_type": "code",
   "execution_count": 23,
   "metadata": {},
   "outputs": [],
   "source": [
    "xtrain, xval, ytrain, yval = train_test_split(df[\"v2\"],df[\"target\"], test_size=0.3)\n",
    "\n",
    "train_data = tf.data.Dataset.from_tensor_slices((xtrain, ytrain))\n",
    "val_data = tf.data.Dataset.from_tensor_slices((xval, yval))"
   ]
  },
  {
   "cell_type": "code",
   "execution_count": 24,
   "metadata": {},
   "outputs": [
    {
     "name": "stdout",
     "output_type": "stream",
     "text": [
      "WARNING:tensorflow:Please fix your imports. Module tensorflow.python.training.tracking.data_structures has been moved to tensorflow.python.trackable.data_structures. The old module will be deleted in version 2.11.\n"
     ]
    }
   ],
   "source": [
    "# model embedding taken from tenserflow hub\n",
    "embedding = \"https://tfhub.dev/google/nnlm-en-dim128/2\"\n",
    "hub_layer = hub.KerasLayer(embedding, input_shape=[], \n",
    "                           dtype=tf.string, trainable=True)"
   ]
  },
  {
   "cell_type": "code",
   "execution_count": 25,
   "metadata": {},
   "outputs": [
    {
     "name": "stdout",
     "output_type": "stream",
     "text": [
      "WARNING:tensorflow:From c:\\Users\\jerem\\AppData\\Local\\Programs\\Python\\Python310\\lib\\site-packages\\tensorflow\\python\\autograph\\pyct\\static_analysis\\liveness.py:83: Analyzer.lamba_check (from tensorflow.python.autograph.pyct.static_analysis.liveness) is deprecated and will be removed after 2023-09-23.\n",
      "Instructions for updating:\n",
      "Lambda fuctions will be no more assumed to be used in the statement where they are used, or at least in the same block. https://github.com/tensorflow/tensorflow/issues/56089\n"
     ]
    },
    {
     "name": "stderr",
     "output_type": "stream",
     "text": [
      "WARNING:tensorflow:From c:\\Users\\jerem\\AppData\\Local\\Programs\\Python\\Python310\\lib\\site-packages\\tensorflow\\python\\autograph\\pyct\\static_analysis\\liveness.py:83: Analyzer.lamba_check (from tensorflow.python.autograph.pyct.static_analysis.liveness) is deprecated and will be removed after 2023-09-23.\n",
      "Instructions for updating:\n",
      "Lambda fuctions will be no more assumed to be used in the statement where they are used, or at least in the same block. https://github.com/tensorflow/tensorflow/issues/56089\n"
     ]
    },
    {
     "name": "stdout",
     "output_type": "stream",
     "text": [
      "Model: \"sequential_1\"\n",
      "_________________________________________________________________\n",
      " Layer (type)                Output Shape              Param #   \n",
      "=================================================================\n",
      " keras_layer (KerasLayer)    (None, 128)               124642688 \n",
      "                                                                 \n",
      " dense_3 (Dense)             (None, 32)                4128      \n",
      "                                                                 \n",
      " dense_4 (Dense)             (None, 16)                528       \n",
      "                                                                 \n",
      " dense_5 (Dense)             (None, 1)                 17        \n",
      "                                                                 \n",
      "=================================================================\n",
      "Total params: 124,647,361\n",
      "Trainable params: 124,647,361\n",
      "Non-trainable params: 0\n",
      "_________________________________________________________________\n"
     ]
    }
   ],
   "source": [
    "model_hub = tf.keras.Sequential()\n",
    "model_hub.add(hub_layer)\n",
    "model_hub.add(tf.keras.layers.Dense(32, activation='selu'))\n",
    "model.add(tf.keras.layers.Dropout(0.2))\n",
    "model_hub.add(tf.keras.layers.Dense(16, activation='relu'))\n",
    "model.add(tf.keras.layers.Dropout(0.2))\n",
    "model_hub.add(tf.keras.layers.Dense(1, activation='sigmoid'))\n",
    "\n",
    "model_hub.summary()"
   ]
  },
  {
   "cell_type": "code",
   "execution_count": 26,
   "metadata": {},
   "outputs": [],
   "source": [
    "weights = 1/(df[\"target\"]).value_counts()\n",
    "weights = weights * len(df)/13\n",
    "weights = {index: values for index,\n",
    "            values in zip(weights.index, weights.values)}"
   ]
  },
  {
   "cell_type": "code",
   "execution_count": 27,
   "metadata": {},
   "outputs": [
    {
     "name": "stdout",
     "output_type": "stream",
     "text": [
      "WARNING:tensorflow:`period` argument is deprecated. Please use `save_freq` to specify the frequency in number of batches seen.\n"
     ]
    },
    {
     "name": "stderr",
     "output_type": "stream",
     "text": [
      "WARNING:tensorflow:`period` argument is deprecated. Please use `save_freq` to specify the frequency in number of batches seen.\n"
     ]
    }
   ],
   "source": [
    "Checkpoint_create = tf.keras.callbacks.ModelCheckpoint(\n",
    "                        filepath='model_hub_weights.hdf5',\n",
    "                        monitor='val_loss',\n",
    "                        verbose=1,\n",
    "                        save_best_only=True,\n",
    "                        save_weights_only=False,\n",
    "                        mode='auto',\n",
    "                        save_freq='epoch',\n",
    "                        period=1)"
   ]
  },
  {
   "cell_type": "code",
   "execution_count": 28,
   "metadata": {},
   "outputs": [],
   "source": [
    "model_hub.compile(optimizer='adam',\n",
    "              loss=tf.keras.losses.BinaryCrossentropy(from_logits=True),\n",
    "              metrics=['accuracy'])"
   ]
  },
  {
   "cell_type": "code",
   "execution_count": 29,
   "metadata": {},
   "outputs": [
    {
     "name": "stdout",
     "output_type": "stream",
     "text": [
      "Epoch 1/20\n"
     ]
    },
    {
     "name": "stderr",
     "output_type": "stream",
     "text": [
      "c:\\Users\\jerem\\AppData\\Local\\Programs\\Python\\Python310\\lib\\site-packages\\keras\\backend.py:5676: UserWarning: \"`binary_crossentropy` received `from_logits=True`, but the `output` argument was produced by a Sigmoid activation and thus does not represent logits. Was this intended?\n",
      "  output, from_logits = _get_logits(\n"
     ]
    },
    {
     "name": "stdout",
     "output_type": "stream",
     "text": [
      "8/8 [==============================] - ETA: 0s - loss: 0.0992 - accuracy: 0.8769\n",
      "Epoch 1: val_loss improved from inf to 0.50372, saving model to model_hub_weights.hdf5\n",
      "8/8 [==============================] - 11s 1s/step - loss: 0.0992 - accuracy: 0.8769 - val_loss: 0.5037 - val_accuracy: 0.9300\n",
      "Epoch 2/20\n",
      "8/8 [==============================] - ETA: 0s - loss: 0.0761 - accuracy: 0.9559\n",
      "Epoch 2: val_loss improved from 0.50372 to 0.37889, saving model to model_hub_weights.hdf5\n",
      "8/8 [==============================] - 11s 1s/step - loss: 0.0761 - accuracy: 0.9559 - val_loss: 0.3789 - val_accuracy: 0.9516\n",
      "Epoch 3/20\n",
      "8/8 [==============================] - ETA: 0s - loss: 0.0549 - accuracy: 0.9662\n",
      "Epoch 3: val_loss improved from 0.37889 to 0.27410, saving model to model_hub_weights.hdf5\n",
      "8/8 [==============================] - 11s 1s/step - loss: 0.0549 - accuracy: 0.9662 - val_loss: 0.2741 - val_accuracy: 0.9587\n",
      "Epoch 4/20\n",
      "8/8 [==============================] - ETA: 0s - loss: 0.0367 - accuracy: 0.9723\n",
      "Epoch 4: val_loss improved from 0.27410 to 0.19721, saving model to model_hub_weights.hdf5\n",
      "8/8 [==============================] - 11s 1s/step - loss: 0.0367 - accuracy: 0.9723 - val_loss: 0.1972 - val_accuracy: 0.9617\n",
      "Epoch 5/20\n",
      "8/8 [==============================] - ETA: 0s - loss: 0.0232 - accuracy: 0.9779\n",
      "Epoch 5: val_loss improved from 0.19721 to 0.15493, saving model to model_hub_weights.hdf5\n",
      "8/8 [==============================] - 11s 1s/step - loss: 0.0232 - accuracy: 0.9779 - val_loss: 0.1549 - val_accuracy: 0.9653\n",
      "Epoch 6/20\n",
      "8/8 [==============================] - ETA: 0s - loss: 0.0146 - accuracy: 0.9838\n",
      "Epoch 6: val_loss improved from 0.15493 to 0.12482, saving model to model_hub_weights.hdf5\n",
      "8/8 [==============================] - 11s 1s/step - loss: 0.0146 - accuracy: 0.9838 - val_loss: 0.1248 - val_accuracy: 0.9665\n",
      "Epoch 7/20\n",
      "8/8 [==============================] - ETA: 0s - loss: 0.0092 - accuracy: 0.9892\n",
      "Epoch 7: val_loss improved from 0.12482 to 0.10579, saving model to model_hub_weights.hdf5\n",
      "8/8 [==============================] - 11s 1s/step - loss: 0.0092 - accuracy: 0.9892 - val_loss: 0.1058 - val_accuracy: 0.9695\n",
      "Epoch 8/20\n",
      "8/8 [==============================] - ETA: 0s - loss: 0.0059 - accuracy: 0.9933\n",
      "Epoch 8: val_loss improved from 0.10579 to 0.09601, saving model to model_hub_weights.hdf5\n",
      "8/8 [==============================] - 12s 2s/step - loss: 0.0059 - accuracy: 0.9933 - val_loss: 0.0960 - val_accuracy: 0.9707\n",
      "Epoch 9/20\n",
      "8/8 [==============================] - ETA: 0s - loss: 0.0040 - accuracy: 0.9962\n",
      "Epoch 9: val_loss improved from 0.09601 to 0.09169, saving model to model_hub_weights.hdf5\n",
      "8/8 [==============================] - 11s 1s/step - loss: 0.0040 - accuracy: 0.9962 - val_loss: 0.0917 - val_accuracy: 0.9725\n",
      "Epoch 10/20\n",
      "8/8 [==============================] - ETA: 0s - loss: 0.0028 - accuracy: 0.9979\n",
      "Epoch 10: val_loss improved from 0.09169 to 0.09009, saving model to model_hub_weights.hdf5\n",
      "8/8 [==============================] - 11s 1s/step - loss: 0.0028 - accuracy: 0.9979 - val_loss: 0.0901 - val_accuracy: 0.9713\n",
      "Epoch 11/20\n",
      "8/8 [==============================] - ETA: 0s - loss: 0.0020 - accuracy: 0.9992\n",
      "Epoch 11: val_loss improved from 0.09009 to 0.08978, saving model to model_hub_weights.hdf5\n",
      "8/8 [==============================] - 11s 1s/step - loss: 0.0020 - accuracy: 0.9992 - val_loss: 0.0898 - val_accuracy: 0.9719\n",
      "Epoch 12/20\n",
      "8/8 [==============================] - ETA: 0s - loss: 0.0015 - accuracy: 0.9992\n",
      "Epoch 12: val_loss did not improve from 0.08978\n",
      "8/8 [==============================] - 9s 1s/step - loss: 0.0015 - accuracy: 0.9992 - val_loss: 0.0903 - val_accuracy: 0.9719\n",
      "Epoch 13/20\n",
      "8/8 [==============================] - ETA: 0s - loss: 0.0012 - accuracy: 0.9995\n",
      "Epoch 13: val_loss did not improve from 0.08978\n",
      "8/8 [==============================] - 8s 1s/step - loss: 0.0012 - accuracy: 0.9995 - val_loss: 0.0911 - val_accuracy: 0.9713\n",
      "Epoch 14/20\n",
      "8/8 [==============================] - ETA: 0s - loss: 9.6359e-04 - accuracy: 0.9995\n",
      "Epoch 14: val_loss did not improve from 0.08978\n",
      "8/8 [==============================] - 8s 1s/step - loss: 9.6359e-04 - accuracy: 0.9995 - val_loss: 0.0921 - val_accuracy: 0.9713\n",
      "Epoch 15/20\n",
      "8/8 [==============================] - ETA: 0s - loss: 7.9861e-04 - accuracy: 0.9995\n",
      "Epoch 15: val_loss did not improve from 0.08978\n",
      "8/8 [==============================] - 8s 1s/step - loss: 7.9861e-04 - accuracy: 0.9995 - val_loss: 0.0929 - val_accuracy: 0.9713\n",
      "Epoch 16/20\n",
      "8/8 [==============================] - ETA: 0s - loss: 6.7599e-04 - accuracy: 0.9997\n",
      "Epoch 16: val_loss did not improve from 0.08978\n",
      "8/8 [==============================] - 8s 1s/step - loss: 6.7599e-04 - accuracy: 0.9997 - val_loss: 0.0938 - val_accuracy: 0.9713\n",
      "Epoch 17/20\n",
      "8/8 [==============================] - ETA: 0s - loss: 5.7560e-04 - accuracy: 0.9997\n",
      "Epoch 17: val_loss did not improve from 0.08978\n",
      "8/8 [==============================] - 8s 1s/step - loss: 5.7560e-04 - accuracy: 0.9997 - val_loss: 0.0947 - val_accuracy: 0.9713\n",
      "Epoch 18/20\n",
      "8/8 [==============================] - ETA: 0s - loss: 5.0350e-04 - accuracy: 0.9997\n",
      "Epoch 18: val_loss did not improve from 0.08978\n",
      "8/8 [==============================] - 9s 1s/step - loss: 5.0350e-04 - accuracy: 0.9997 - val_loss: 0.0956 - val_accuracy: 0.9713\n",
      "Epoch 19/20\n",
      "8/8 [==============================] - ETA: 0s - loss: 4.4261e-04 - accuracy: 0.9997\n",
      "Epoch 19: val_loss did not improve from 0.08978\n",
      "8/8 [==============================] - 9s 1s/step - loss: 4.4261e-04 - accuracy: 0.9997 - val_loss: 0.0965 - val_accuracy: 0.9713\n",
      "Epoch 20/20\n",
      "8/8 [==============================] - ETA: 0s - loss: 3.9250e-04 - accuracy: 0.9997\n",
      "Epoch 20: val_loss did not improve from 0.08978\n",
      "8/8 [==============================] - 9s 1s/step - loss: 3.9250e-04 - accuracy: 0.9997 - val_loss: 0.0973 - val_accuracy: 0.9713\n"
     ]
    },
    {
     "data": {
      "text/plain": [
       "<keras.callbacks.History at 0x272336cfc40>"
      ]
     },
     "execution_count": 29,
     "metadata": {},
     "output_type": "execute_result"
    }
   ],
   "source": [
    "# train model\n",
    "model_hub.fit(train_data.shuffle(10000).batch(512),\n",
    "                epochs=20,\n",
    "                class_weight=weights,\n",
    "                validation_data=val_data.batch(512),\n",
    "                verbose=1,\n",
    "                callbacks=Checkpoint_create\n",
    "                )"
   ]
  },
  {
   "cell_type": "code",
   "execution_count": 30,
   "metadata": {},
   "outputs": [
    {
     "data": {
      "text/html": [
       "<div>\n",
       "<style scoped>\n",
       "    .dataframe tbody tr th:only-of-type {\n",
       "        vertical-align: middle;\n",
       "    }\n",
       "\n",
       "    .dataframe tbody tr th {\n",
       "        vertical-align: top;\n",
       "    }\n",
       "\n",
       "    .dataframe thead th {\n",
       "        text-align: right;\n",
       "    }\n",
       "</style>\n",
       "<table border=\"1\" class=\"dataframe\">\n",
       "  <thead>\n",
       "    <tr style=\"text-align: right;\">\n",
       "      <th></th>\n",
       "      <th>loss</th>\n",
       "      <th>accuracy</th>\n",
       "      <th>val_loss</th>\n",
       "      <th>val_accuracy</th>\n",
       "    </tr>\n",
       "  </thead>\n",
       "  <tbody>\n",
       "    <tr>\n",
       "      <th>0</th>\n",
       "      <td>0.099173</td>\n",
       "      <td>0.876923</td>\n",
       "      <td>0.503721</td>\n",
       "      <td>0.930024</td>\n",
       "    </tr>\n",
       "    <tr>\n",
       "      <th>1</th>\n",
       "      <td>0.076136</td>\n",
       "      <td>0.955897</td>\n",
       "      <td>0.378890</td>\n",
       "      <td>0.951555</td>\n",
       "    </tr>\n",
       "    <tr>\n",
       "      <th>2</th>\n",
       "      <td>0.054936</td>\n",
       "      <td>0.966154</td>\n",
       "      <td>0.274101</td>\n",
       "      <td>0.958732</td>\n",
       "    </tr>\n",
       "    <tr>\n",
       "      <th>3</th>\n",
       "      <td>0.036681</td>\n",
       "      <td>0.972308</td>\n",
       "      <td>0.197212</td>\n",
       "      <td>0.961722</td>\n",
       "    </tr>\n",
       "    <tr>\n",
       "      <th>4</th>\n",
       "      <td>0.023240</td>\n",
       "      <td>0.977949</td>\n",
       "      <td>0.154932</td>\n",
       "      <td>0.965311</td>\n",
       "    </tr>\n",
       "    <tr>\n",
       "      <th>5</th>\n",
       "      <td>0.014585</td>\n",
       "      <td>0.983846</td>\n",
       "      <td>0.124821</td>\n",
       "      <td>0.966507</td>\n",
       "    </tr>\n",
       "    <tr>\n",
       "      <th>6</th>\n",
       "      <td>0.009227</td>\n",
       "      <td>0.989231</td>\n",
       "      <td>0.105794</td>\n",
       "      <td>0.969498</td>\n",
       "    </tr>\n",
       "    <tr>\n",
       "      <th>7</th>\n",
       "      <td>0.005936</td>\n",
       "      <td>0.993333</td>\n",
       "      <td>0.096008</td>\n",
       "      <td>0.970694</td>\n",
       "    </tr>\n",
       "    <tr>\n",
       "      <th>8</th>\n",
       "      <td>0.004010</td>\n",
       "      <td>0.996154</td>\n",
       "      <td>0.091691</td>\n",
       "      <td>0.972488</td>\n",
       "    </tr>\n",
       "    <tr>\n",
       "      <th>9</th>\n",
       "      <td>0.002752</td>\n",
       "      <td>0.997949</td>\n",
       "      <td>0.090087</td>\n",
       "      <td>0.971292</td>\n",
       "    </tr>\n",
       "    <tr>\n",
       "      <th>10</th>\n",
       "      <td>0.001989</td>\n",
       "      <td>0.999231</td>\n",
       "      <td>0.089778</td>\n",
       "      <td>0.971890</td>\n",
       "    </tr>\n",
       "    <tr>\n",
       "      <th>11</th>\n",
       "      <td>0.001517</td>\n",
       "      <td>0.999231</td>\n",
       "      <td>0.090254</td>\n",
       "      <td>0.971890</td>\n",
       "    </tr>\n",
       "    <tr>\n",
       "      <th>12</th>\n",
       "      <td>0.001195</td>\n",
       "      <td>0.999487</td>\n",
       "      <td>0.091133</td>\n",
       "      <td>0.971292</td>\n",
       "    </tr>\n",
       "    <tr>\n",
       "      <th>13</th>\n",
       "      <td>0.000964</td>\n",
       "      <td>0.999487</td>\n",
       "      <td>0.092052</td>\n",
       "      <td>0.971292</td>\n",
       "    </tr>\n",
       "    <tr>\n",
       "      <th>14</th>\n",
       "      <td>0.000799</td>\n",
       "      <td>0.999487</td>\n",
       "      <td>0.092937</td>\n",
       "      <td>0.971292</td>\n",
       "    </tr>\n",
       "    <tr>\n",
       "      <th>15</th>\n",
       "      <td>0.000676</td>\n",
       "      <td>0.999744</td>\n",
       "      <td>0.093846</td>\n",
       "      <td>0.971292</td>\n",
       "    </tr>\n",
       "    <tr>\n",
       "      <th>16</th>\n",
       "      <td>0.000576</td>\n",
       "      <td>0.999744</td>\n",
       "      <td>0.094676</td>\n",
       "      <td>0.971292</td>\n",
       "    </tr>\n",
       "    <tr>\n",
       "      <th>17</th>\n",
       "      <td>0.000504</td>\n",
       "      <td>0.999744</td>\n",
       "      <td>0.095565</td>\n",
       "      <td>0.971292</td>\n",
       "    </tr>\n",
       "    <tr>\n",
       "      <th>18</th>\n",
       "      <td>0.000443</td>\n",
       "      <td>0.999744</td>\n",
       "      <td>0.096463</td>\n",
       "      <td>0.971292</td>\n",
       "    </tr>\n",
       "    <tr>\n",
       "      <th>19</th>\n",
       "      <td>0.000393</td>\n",
       "      <td>0.999744</td>\n",
       "      <td>0.097321</td>\n",
       "      <td>0.971292</td>\n",
       "    </tr>\n",
       "  </tbody>\n",
       "</table>\n",
       "</div>"
      ],
      "text/plain": [
       "        loss  accuracy  val_loss  val_accuracy\n",
       "0   0.099173  0.876923  0.503721      0.930024\n",
       "1   0.076136  0.955897  0.378890      0.951555\n",
       "2   0.054936  0.966154  0.274101      0.958732\n",
       "3   0.036681  0.972308  0.197212      0.961722\n",
       "4   0.023240  0.977949  0.154932      0.965311\n",
       "5   0.014585  0.983846  0.124821      0.966507\n",
       "6   0.009227  0.989231  0.105794      0.969498\n",
       "7   0.005936  0.993333  0.096008      0.970694\n",
       "8   0.004010  0.996154  0.091691      0.972488\n",
       "9   0.002752  0.997949  0.090087      0.971292\n",
       "10  0.001989  0.999231  0.089778      0.971890\n",
       "11  0.001517  0.999231  0.090254      0.971890\n",
       "12  0.001195  0.999487  0.091133      0.971292\n",
       "13  0.000964  0.999487  0.092052      0.971292\n",
       "14  0.000799  0.999487  0.092937      0.971292\n",
       "15  0.000676  0.999744  0.093846      0.971292\n",
       "16  0.000576  0.999744  0.094676      0.971292\n",
       "17  0.000504  0.999744  0.095565      0.971292\n",
       "18  0.000443  0.999744  0.096463      0.971292\n",
       "19  0.000393  0.999744  0.097321      0.971292"
      ]
     },
     "execution_count": 30,
     "metadata": {},
     "output_type": "execute_result"
    }
   ],
   "source": [
    "history_model_hub = pd.DataFrame(model_hub.history.history)\n",
    "history_model_hub"
   ]
  },
  {
   "cell_type": "code",
   "execution_count": 31,
   "metadata": {},
   "outputs": [
    {
     "data": {
      "image/png": "[encoded data removed]",
      "text/plain": [
       "<Figure size 640x480 with 1 Axes>"
      ]
     },
     "metadata": {},
     "output_type": "display_data"
    }
   ],
   "source": [
    "plt.plot(history_model_hub[\"loss\"], color=\"b\")\n",
    "plt.plot(history_model_hub[\"val_loss\"], color=\"r\")\n",
    "plt.ylabel(\"loss\")\n",
    "plt.xlabel(\"Epochs\")\n",
    "plt.show()"
   ]
  },
  {
   "cell_type": "code",
   "execution_count": 32,
   "metadata": {},
   "outputs": [
    {
     "data": {
      "image/png": "[encoded data removed]",
      "text/plain": [
       "<Figure size 640x480 with 1 Axes>"
      ]
     },
     "metadata": {},
     "output_type": "display_data"
    }
   ],
   "source": [
    "plt.plot(history_model_hub[\"accuracy\"], color=\"b\")\n",
    "plt.plot(history_model_hub[\"val_accuracy\"], color=\"r\")\n",
    "plt.ylabel(\"accuracy\")\n",
    "plt.xlabel(\"Epochs\")\n",
    "plt.show()"
   ]
  }
 ],
 "metadata": {
  "kernelspec": {
   "display_name": "Python 3.10.2 64-bit",
   "language": "python",
   "name": "python3"
  },
  "language_info": {
   "codemirror_mode": {
    "name": "ipython",
    "version": 3
   },
   "file_extension": ".py",
   "mimetype": "text/x-python",
   "name": "python",
   "nbconvert_exporter": "python",
   "pygments_lexer": "ipython3",
   "version": "3.10.2"
  },
  "orig_nbformat": 4,
  "vscode": {
   "interpreter": {
    "hash": "23e0aedb6d47e040503db7fcf09a0dff3cea72eb7d5d4c2596a602b1504b448c"
   }
  }
 },
 "nbformat": 4,
 "nbformat_minor": 2
}
