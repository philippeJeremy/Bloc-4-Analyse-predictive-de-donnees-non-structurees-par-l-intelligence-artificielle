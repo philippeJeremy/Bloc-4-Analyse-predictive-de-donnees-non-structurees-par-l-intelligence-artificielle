{
 "cells": [
  {
   "cell_type": "code",
   "execution_count": 14,
   "metadata": {},
   "outputs": [],
   "source": [
    "import os\n",
    "import io\n",
    "import en_core_web_lg\n",
    "\n",
    "import pandas as pd \n",
    "import tensorflow as tf \n",
    "import plotly.express as px\n",
    "import tensorflow_hub as hub\n",
    "import matplotlib.pyplot as plt\n",
    "import plotly.graph_objects as go\n",
    "\n",
    "from sklearn.preprocessing import LabelEncoder\n",
    "from spacy.lang.en.stop_words import STOP_WORDS\n",
    "from sklearn.model_selection import train_test_split\n",
    "\n",
    "nlp = en_core_web_lg.load()"
   ]
  },
  {
   "cell_type": "code",
   "execution_count": 15,
   "metadata": {},
   "outputs": [],
   "source": [
    "df = pd.read_csv('spam.csv', encoding=\"ISO-8859-1\")"
   ]
  },
  {
   "cell_type": "code",
   "execution_count": 16,
   "metadata": {},
   "outputs": [
    {
     "data": {
      "text/html": [
       "<div>\n",
       "<style scoped>\n",
       "    .dataframe tbody tr th:only-of-type {\n",
       "        vertical-align: middle;\n",
       "    }\n",
       "\n",
       "    .dataframe tbody tr th {\n",
       "        vertical-align: top;\n",
       "    }\n",
       "\n",
       "    .dataframe thead th {\n",
       "        text-align: right;\n",
       "    }\n",
       "</style>\n",
       "<table border=\"1\" class=\"dataframe\">\n",
       "  <thead>\n",
       "    <tr style=\"text-align: right;\">\n",
       "      <th></th>\n",
       "      <th>v1</th>\n",
       "      <th>v2</th>\n",
       "      <th>Unnamed: 2</th>\n",
       "      <th>Unnamed: 3</th>\n",
       "      <th>Unnamed: 4</th>\n",
       "    </tr>\n",
       "  </thead>\n",
       "  <tbody>\n",
       "    <tr>\n",
       "      <th>0</th>\n",
       "      <td>ham</td>\n",
       "      <td>Go until jurong point, crazy.. Available only ...</td>\n",
       "      <td>NaN</td>\n",
       "      <td>NaN</td>\n",
       "      <td>NaN</td>\n",
       "    </tr>\n",
       "    <tr>\n",
       "      <th>1</th>\n",
       "      <td>ham</td>\n",
       "      <td>Ok lar... Joking wif u oni...</td>\n",
       "      <td>NaN</td>\n",
       "      <td>NaN</td>\n",
       "      <td>NaN</td>\n",
       "    </tr>\n",
       "    <tr>\n",
       "      <th>2</th>\n",
       "      <td>spam</td>\n",
       "      <td>Free entry in 2 a wkly comp to win FA Cup fina...</td>\n",
       "      <td>NaN</td>\n",
       "      <td>NaN</td>\n",
       "      <td>NaN</td>\n",
       "    </tr>\n",
       "    <tr>\n",
       "      <th>3</th>\n",
       "      <td>ham</td>\n",
       "      <td>U dun say so early hor... U c already then say...</td>\n",
       "      <td>NaN</td>\n",
       "      <td>NaN</td>\n",
       "      <td>NaN</td>\n",
       "    </tr>\n",
       "    <tr>\n",
       "      <th>4</th>\n",
       "      <td>ham</td>\n",
       "      <td>Nah I don't think he goes to usf, he lives aro...</td>\n",
       "      <td>NaN</td>\n",
       "      <td>NaN</td>\n",
       "      <td>NaN</td>\n",
       "    </tr>\n",
       "    <tr>\n",
       "      <th>...</th>\n",
       "      <td>...</td>\n",
       "      <td>...</td>\n",
       "      <td>...</td>\n",
       "      <td>...</td>\n",
       "      <td>...</td>\n",
       "    </tr>\n",
       "    <tr>\n",
       "      <th>5567</th>\n",
       "      <td>spam</td>\n",
       "      <td>This is the 2nd time we have tried 2 contact u...</td>\n",
       "      <td>NaN</td>\n",
       "      <td>NaN</td>\n",
       "      <td>NaN</td>\n",
       "    </tr>\n",
       "    <tr>\n",
       "      <th>5568</th>\n",
       "      <td>ham</td>\n",
       "      <td>Will Ì_ b going to esplanade fr home?</td>\n",
       "      <td>NaN</td>\n",
       "      <td>NaN</td>\n",
       "      <td>NaN</td>\n",
       "    </tr>\n",
       "    <tr>\n",
       "      <th>5569</th>\n",
       "      <td>ham</td>\n",
       "      <td>Pity, * was in mood for that. So...any other s...</td>\n",
       "      <td>NaN</td>\n",
       "      <td>NaN</td>\n",
       "      <td>NaN</td>\n",
       "    </tr>\n",
       "    <tr>\n",
       "      <th>5570</th>\n",
       "      <td>ham</td>\n",
       "      <td>The guy did some bitching but I acted like i'd...</td>\n",
       "      <td>NaN</td>\n",
       "      <td>NaN</td>\n",
       "      <td>NaN</td>\n",
       "    </tr>\n",
       "    <tr>\n",
       "      <th>5571</th>\n",
       "      <td>ham</td>\n",
       "      <td>Rofl. Its true to its name</td>\n",
       "      <td>NaN</td>\n",
       "      <td>NaN</td>\n",
       "      <td>NaN</td>\n",
       "    </tr>\n",
       "  </tbody>\n",
       "</table>\n",
       "<p>5572 rows × 5 columns</p>\n",
       "</div>"
      ],
      "text/plain": [
       "        v1                                                 v2 Unnamed: 2  \\\n",
       "0      ham  Go until jurong point, crazy.. Available only ...        NaN   \n",
       "1      ham                      Ok lar... Joking wif u oni...        NaN   \n",
       "2     spam  Free entry in 2 a wkly comp to win FA Cup fina...        NaN   \n",
       "3      ham  U dun say so early hor... U c already then say...        NaN   \n",
       "4      ham  Nah I don't think he goes to usf, he lives aro...        NaN   \n",
       "...    ...                                                ...        ...   \n",
       "5567  spam  This is the 2nd time we have tried 2 contact u...        NaN   \n",
       "5568   ham              Will Ì_ b going to esplanade fr home?        NaN   \n",
       "5569   ham  Pity, * was in mood for that. So...any other s...        NaN   \n",
       "5570   ham  The guy did some bitching but I acted like i'd...        NaN   \n",
       "5571   ham                         Rofl. Its true to its name        NaN   \n",
       "\n",
       "     Unnamed: 3 Unnamed: 4  \n",
       "0           NaN        NaN  \n",
       "1           NaN        NaN  \n",
       "2           NaN        NaN  \n",
       "3           NaN        NaN  \n",
       "4           NaN        NaN  \n",
       "...         ...        ...  \n",
       "5567        NaN        NaN  \n",
       "5568        NaN        NaN  \n",
       "5569        NaN        NaN  \n",
       "5570        NaN        NaN  \n",
       "5571        NaN        NaN  \n",
       "\n",
       "[5572 rows x 5 columns]"
      ]
     },
     "execution_count": 16,
     "metadata": {},
     "output_type": "execute_result"
    }
   ],
   "source": [
    "df"
   ]
  },
  {
   "cell_type": "code",
   "execution_count": 17,
   "metadata": {},
   "outputs": [
    {
     "data": {
      "text/plain": [
       "v1             0.000000\n",
       "v2             0.000000\n",
       "Unnamed: 2    99.102656\n",
       "Unnamed: 3    99.784637\n",
       "Unnamed: 4    99.892319\n",
       "dtype: float64"
      ]
     },
     "metadata": {},
     "output_type": "display_data"
    }
   ],
   "source": [
    "display(100*df.isnull().sum()/df.shape[0])"
   ]
  },
  {
   "cell_type": "code",
   "execution_count": 18,
   "metadata": {},
   "outputs": [],
   "source": [
    "df.drop(columns=[\"Unnamed: 2\", \"Unnamed: 3\", \"Unnamed: 4\"], inplace=True)"
   ]
  },
  {
   "cell_type": "code",
   "execution_count": 19,
   "metadata": {},
   "outputs": [],
   "source": [
    "df[\"review_clean\"] = df[\"v2\"].apply(lambda x:''.join(ch for ch in x if ch.isalnum() or ch==\" \" or ch==\"'\"))\n",
    "df[\"review_clean\"] = df[\"review_clean\"].apply(lambda x: x.replace(\" +\",\" \").lower().strip())\n",
    "df[\"review_clean\"] = df[\"review_clean\"].apply(lambda x: \" \".join([token.lemma_ for token in nlp(x) if (token.lemma_ not in STOP_WORDS) and (token.text not in STOP_WORDS)]))\n",
    "df[\"len_review\"] = df[\"review_clean\"].apply(lambda x: len(x))\n",
    "\n",
    "label = LabelEncoder()\n",
    "df['target'] = label.fit_transform(df['v1'])"
   ]
  },
  {
   "cell_type": "code",
   "execution_count": 20,
   "metadata": {},
   "outputs": [
    {
     "data": {
      "text/plain": [
       "v1              0.0\n",
       "v2              0.0\n",
       "review_clean    0.0\n",
       "len_review      0.0\n",
       "target          0.0\n",
       "dtype: float64"
      ]
     },
     "metadata": {},
     "output_type": "display_data"
    }
   ],
   "source": [
    "display(100*df.isnull().sum()/df.shape[0])"
   ]
  },
  {
   "cell_type": "code",
   "execution_count": 21,
   "metadata": {},
   "outputs": [
    {
     "data": {
      "text/plain": [
       "<AxesSubplot: >"
      ]
     },
     "execution_count": 21,
     "metadata": {},
     "output_type": "execute_result"
    },
    {
     "data": {
      "image/png": "[encoded data removed]",
      "text/plain": [
       "<Figure size 640x480 with 1 Axes>"
      ]
     },
     "metadata": {},
     "output_type": "display_data"
    }
   ],
   "source": [
    "df['len_review'].value_counts().sort_index().plot(kind='bar')"
   ]
  },
  {
   "cell_type": "code",
   "execution_count": 22,
   "metadata": {},
   "outputs": [],
   "source": [
    "tokenizer = tf.keras.preprocessing.text.Tokenizer(num_words=1000) \n",
    "tokenizer.fit_on_texts(df[\"review_clean\"])\n",
    "df[\"review_encoded\"] = tokenizer.texts_to_sequences(df[\"review_clean\"])"
   ]
  },
  {
   "cell_type": "code",
   "execution_count": 23,
   "metadata": {},
   "outputs": [],
   "source": [
    "reviews_pad = tf.keras.preprocessing.sequence.pad_sequences(df[\"review_encoded\"], padding=\"post\")\n",
    "\n",
    "xtrain, xval, ytrain, yval = train_test_split(reviews_pad,df[\"target\"], test_size=0.3)\n",
    "\n",
    "train = tf.data.Dataset.from_tensor_slices((xtrain, ytrain))\n",
    "val = tf.data.Dataset.from_tensor_slices((xval, yval))\n",
    "\n",
    "train_batch = train.shuffle(len(train)).batch(64)\n",
    "val_batch = val.shuffle(len(val)).batch(64)"
   ]
  },
  {
   "cell_type": "code",
   "execution_count": 24,
   "metadata": {},
   "outputs": [
    {
     "name": "stdout",
     "output_type": "stream",
     "text": [
      "tf.Tensor(\n",
      "[[ 53 819  15 ...   0   0   0]\n",
      " [173   0   0 ...   0   0   0]\n",
      " [145 458 296 ...   0   0   0]\n",
      " ...\n",
      " [ 24 132  51 ...   0   0   0]\n",
      " [113 897   0 ...   0   0   0]\n",
      " [455 938  70 ...   0   0   0]], shape=(64, 54), dtype=int32) tf.Tensor(\n",
      "[0 0 0 0 0 0 0 0 0 0 0 0 0 0 0 1 0 0 0 0 0 0 0 0 0 0 0 0 0 0 1 0 0 0 0 0 0\n",
      " 0 0 0 0 0 0 1 1 0 1 1 0 0 0 0 0 0 0 0 0 0 0 0 0 0 0 1], shape=(64,), dtype=int32)\n"
     ]
    }
   ],
   "source": [
    "for review, star in train_batch.take(1):\n",
    "  print(review, star)"
   ]
  },
  {
   "cell_type": "code",
   "execution_count": 25,
   "metadata": {},
   "outputs": [
    {
     "name": "stdout",
     "output_type": "stream",
     "text": [
      "You must install pydot (`pip install pydot`) and install graphviz (see instructions at https://graphviz.gitlab.io/download/) for plot_model to work.\n"
     ]
    }
   ],
   "source": [
    "vocab_size = len(tokenizer.word_index)\n",
    "model = tf.keras.Sequential([             \n",
    "            tf.keras.layers.Embedding(vocab_size+1, 8, input_shape=[review.shape[1],],name=\"embedding\"),  \n",
    "            tf.keras.layers.GlobalAveragePooling1D(),    \n",
    "            tf.keras.layers.Dense(16, activation='relu'),      \n",
    "            tf.keras.layers.Dense(1, activation=\"sigmoid\")\n",
    "                ])\n",
    "\n",
    "tf.keras.utils.plot_model(model, show_shapes=True)"
   ]
  },
  {
   "cell_type": "code",
   "execution_count": 26,
   "metadata": {},
   "outputs": [],
   "source": [
    "optimizer= tf.keras.optimizers.Adam(learning_rate=0.001)\n",
    "\n",
    "model.compile(optimizer=optimizer,\n",
    "              loss=tf.keras.losses.BinaryCrossentropy(),\n",
    "              metrics=[\"accuracy\"])"
   ]
  },
  {
   "cell_type": "code",
   "execution_count": 27,
   "metadata": {},
   "outputs": [
    {
     "name": "stdout",
     "output_type": "stream",
     "text": [
      "Model: \"sequential\"\n",
      "_________________________________________________________________\n",
      " Layer (type)                Output Shape              Param #   \n",
      "=================================================================\n",
      " embedding (Embedding)       (None, 54, 8)             65528     \n",
      "                                                                 \n",
      " global_average_pooling1d (G  (None, 8)                0         \n",
      " lobalAveragePooling1D)                                          \n",
      "                                                                 \n",
      " dense (Dense)               (None, 16)                144       \n",
      "                                                                 \n",
      " dense_1 (Dense)             (None, 1)                 17        \n",
      "                                                                 \n",
      "=================================================================\n",
      "Total params: 65,689\n",
      "Trainable params: 65,689\n",
      "Non-trainable params: 0\n",
      "_________________________________________________________________\n"
     ]
    }
   ],
   "source": [
    "model.summary()"
   ]
  },
  {
   "cell_type": "code",
   "execution_count": 28,
   "metadata": {},
   "outputs": [
    {
     "name": "stdout",
     "output_type": "stream",
     "text": [
      "Epoch 1/20\n",
      "61/61 [==============================] - 1s 3ms/step - loss: 0.6078 - accuracy: 0.8551 - val_loss: 0.5188 - val_accuracy: 0.8600\n",
      "Epoch 2/20\n",
      "61/61 [==============================] - 0s 1ms/step - loss: 0.4355 - accuracy: 0.8685 - val_loss: 0.3877 - val_accuracy: 0.8600\n",
      "Epoch 3/20\n",
      "61/61 [==============================] - 0s 2ms/step - loss: 0.3603 - accuracy: 0.8685 - val_loss: 0.3640 - val_accuracy: 0.8600\n",
      "Epoch 4/20\n",
      "61/61 [==============================] - 0s 2ms/step - loss: 0.3449 - accuracy: 0.8685 - val_loss: 0.3514 - val_accuracy: 0.8600\n",
      "Epoch 5/20\n",
      "61/61 [==============================] - 0s 2ms/step - loss: 0.3314 - accuracy: 0.8685 - val_loss: 0.3355 - val_accuracy: 0.8600\n",
      "Epoch 6/20\n",
      "61/61 [==============================] - 0s 2ms/step - loss: 0.3137 - accuracy: 0.8685 - val_loss: 0.3139 - val_accuracy: 0.8600\n",
      "Epoch 7/20\n",
      "61/61 [==============================] - 0s 2ms/step - loss: 0.2882 - accuracy: 0.8685 - val_loss: 0.2831 - val_accuracy: 0.8600\n",
      "Epoch 8/20\n",
      "61/61 [==============================] - 0s 2ms/step - loss: 0.2564 - accuracy: 0.8749 - val_loss: 0.2480 - val_accuracy: 0.8756\n",
      "Epoch 9/20\n",
      "61/61 [==============================] - 0s 1ms/step - loss: 0.2222 - accuracy: 0.8979 - val_loss: 0.2140 - val_accuracy: 0.9037\n",
      "Epoch 10/20\n",
      "61/61 [==============================] - 0s 1ms/step - loss: 0.1898 - accuracy: 0.9197 - val_loss: 0.1822 - val_accuracy: 0.9318\n",
      "Epoch 11/20\n",
      "61/61 [==============================] - 0s 1ms/step - loss: 0.1611 - accuracy: 0.9436 - val_loss: 0.1565 - val_accuracy: 0.9456\n",
      "Epoch 12/20\n",
      "61/61 [==============================] - 0s 1ms/step - loss: 0.1367 - accuracy: 0.9603 - val_loss: 0.1348 - val_accuracy: 0.9545\n",
      "Epoch 13/20\n",
      "61/61 [==============================] - 0s 1ms/step - loss: 0.1147 - accuracy: 0.9662 - val_loss: 0.1131 - val_accuracy: 0.9689\n",
      "Epoch 14/20\n",
      "61/61 [==============================] - 0s 1ms/step - loss: 0.0977 - accuracy: 0.9733 - val_loss: 0.0986 - val_accuracy: 0.9749\n",
      "Epoch 15/20\n",
      "61/61 [==============================] - 0s 1ms/step - loss: 0.0851 - accuracy: 0.9767 - val_loss: 0.0884 - val_accuracy: 0.9761\n",
      "Epoch 16/20\n",
      "61/61 [==============================] - 0s 1ms/step - loss: 0.0761 - accuracy: 0.9787 - val_loss: 0.0831 - val_accuracy: 0.9755\n",
      "Epoch 17/20\n",
      "61/61 [==============================] - 0s 2ms/step - loss: 0.0693 - accuracy: 0.9792 - val_loss: 0.0753 - val_accuracy: 0.9803\n",
      "Epoch 18/20\n",
      "61/61 [==============================] - 0s 1ms/step - loss: 0.0629 - accuracy: 0.9815 - val_loss: 0.0713 - val_accuracy: 0.9803\n",
      "Epoch 19/20\n",
      "61/61 [==============================] - 0s 1ms/step - loss: 0.0585 - accuracy: 0.9821 - val_loss: 0.0693 - val_accuracy: 0.9803\n",
      "Epoch 20/20\n",
      "61/61 [==============================] - 0s 1ms/step - loss: 0.0550 - accuracy: 0.9821 - val_loss: 0.0660 - val_accuracy: 0.9803\n"
     ]
    }
   ],
   "source": [
    "history = model.fit(train_batch, \n",
    "                    epochs=20, \n",
    "                    validation_data=val_batch)"
   ]
  },
  {
   "cell_type": "code",
   "execution_count": 29,
   "metadata": {},
   "outputs": [
    {
     "data": {
      "text/html": [
       "<div>\n",
       "<style scoped>\n",
       "    .dataframe tbody tr th:only-of-type {\n",
       "        vertical-align: middle;\n",
       "    }\n",
       "\n",
       "    .dataframe tbody tr th {\n",
       "        vertical-align: top;\n",
       "    }\n",
       "\n",
       "    .dataframe thead th {\n",
       "        text-align: right;\n",
       "    }\n",
       "</style>\n",
       "<table border=\"1\" class=\"dataframe\">\n",
       "  <thead>\n",
       "    <tr style=\"text-align: right;\">\n",
       "      <th></th>\n",
       "      <th>loss</th>\n",
       "      <th>accuracy</th>\n",
       "      <th>val_loss</th>\n",
       "      <th>val_accuracy</th>\n",
       "    </tr>\n",
       "  </thead>\n",
       "  <tbody>\n",
       "    <tr>\n",
       "      <th>0</th>\n",
       "      <td>0.607775</td>\n",
       "      <td>0.855128</td>\n",
       "      <td>0.518788</td>\n",
       "      <td>0.860048</td>\n",
       "    </tr>\n",
       "    <tr>\n",
       "      <th>1</th>\n",
       "      <td>0.435483</td>\n",
       "      <td>0.868462</td>\n",
       "      <td>0.387689</td>\n",
       "      <td>0.860048</td>\n",
       "    </tr>\n",
       "    <tr>\n",
       "      <th>2</th>\n",
       "      <td>0.360277</td>\n",
       "      <td>0.868462</td>\n",
       "      <td>0.363979</td>\n",
       "      <td>0.860048</td>\n",
       "    </tr>\n",
       "    <tr>\n",
       "      <th>3</th>\n",
       "      <td>0.344923</td>\n",
       "      <td>0.868462</td>\n",
       "      <td>0.351435</td>\n",
       "      <td>0.860048</td>\n",
       "    </tr>\n",
       "    <tr>\n",
       "      <th>4</th>\n",
       "      <td>0.331378</td>\n",
       "      <td>0.868462</td>\n",
       "      <td>0.335483</td>\n",
       "      <td>0.860048</td>\n",
       "    </tr>\n",
       "    <tr>\n",
       "      <th>5</th>\n",
       "      <td>0.313677</td>\n",
       "      <td>0.868462</td>\n",
       "      <td>0.313913</td>\n",
       "      <td>0.860048</td>\n",
       "    </tr>\n",
       "    <tr>\n",
       "      <th>6</th>\n",
       "      <td>0.288176</td>\n",
       "      <td>0.868462</td>\n",
       "      <td>0.283104</td>\n",
       "      <td>0.860048</td>\n",
       "    </tr>\n",
       "    <tr>\n",
       "      <th>7</th>\n",
       "      <td>0.256422</td>\n",
       "      <td>0.874872</td>\n",
       "      <td>0.247971</td>\n",
       "      <td>0.875598</td>\n",
       "    </tr>\n",
       "    <tr>\n",
       "      <th>8</th>\n",
       "      <td>0.222173</td>\n",
       "      <td>0.897949</td>\n",
       "      <td>0.214013</td>\n",
       "      <td>0.903708</td>\n",
       "    </tr>\n",
       "    <tr>\n",
       "      <th>9</th>\n",
       "      <td>0.189767</td>\n",
       "      <td>0.919744</td>\n",
       "      <td>0.182186</td>\n",
       "      <td>0.931818</td>\n",
       "    </tr>\n",
       "    <tr>\n",
       "      <th>10</th>\n",
       "      <td>0.161145</td>\n",
       "      <td>0.943590</td>\n",
       "      <td>0.156464</td>\n",
       "      <td>0.945574</td>\n",
       "    </tr>\n",
       "    <tr>\n",
       "      <th>11</th>\n",
       "      <td>0.136700</td>\n",
       "      <td>0.960256</td>\n",
       "      <td>0.134787</td>\n",
       "      <td>0.954545</td>\n",
       "    </tr>\n",
       "    <tr>\n",
       "      <th>12</th>\n",
       "      <td>0.114748</td>\n",
       "      <td>0.966154</td>\n",
       "      <td>0.113117</td>\n",
       "      <td>0.968900</td>\n",
       "    </tr>\n",
       "    <tr>\n",
       "      <th>13</th>\n",
       "      <td>0.097743</td>\n",
       "      <td>0.973333</td>\n",
       "      <td>0.098649</td>\n",
       "      <td>0.974880</td>\n",
       "    </tr>\n",
       "    <tr>\n",
       "      <th>14</th>\n",
       "      <td>0.085075</td>\n",
       "      <td>0.976667</td>\n",
       "      <td>0.088437</td>\n",
       "      <td>0.976077</td>\n",
       "    </tr>\n",
       "    <tr>\n",
       "      <th>15</th>\n",
       "      <td>0.076149</td>\n",
       "      <td>0.978718</td>\n",
       "      <td>0.083088</td>\n",
       "      <td>0.975478</td>\n",
       "    </tr>\n",
       "    <tr>\n",
       "      <th>16</th>\n",
       "      <td>0.069314</td>\n",
       "      <td>0.979231</td>\n",
       "      <td>0.075341</td>\n",
       "      <td>0.980263</td>\n",
       "    </tr>\n",
       "    <tr>\n",
       "      <th>17</th>\n",
       "      <td>0.062933</td>\n",
       "      <td>0.981538</td>\n",
       "      <td>0.071316</td>\n",
       "      <td>0.980263</td>\n",
       "    </tr>\n",
       "    <tr>\n",
       "      <th>18</th>\n",
       "      <td>0.058485</td>\n",
       "      <td>0.982051</td>\n",
       "      <td>0.069272</td>\n",
       "      <td>0.980263</td>\n",
       "    </tr>\n",
       "    <tr>\n",
       "      <th>19</th>\n",
       "      <td>0.055016</td>\n",
       "      <td>0.982051</td>\n",
       "      <td>0.065992</td>\n",
       "      <td>0.980263</td>\n",
       "    </tr>\n",
       "  </tbody>\n",
       "</table>\n",
       "</div>"
      ],
      "text/plain": [
       "        loss  accuracy  val_loss  val_accuracy\n",
       "0   0.607775  0.855128  0.518788      0.860048\n",
       "1   0.435483  0.868462  0.387689      0.860048\n",
       "2   0.360277  0.868462  0.363979      0.860048\n",
       "3   0.344923  0.868462  0.351435      0.860048\n",
       "4   0.331378  0.868462  0.335483      0.860048\n",
       "5   0.313677  0.868462  0.313913      0.860048\n",
       "6   0.288176  0.868462  0.283104      0.860048\n",
       "7   0.256422  0.874872  0.247971      0.875598\n",
       "8   0.222173  0.897949  0.214013      0.903708\n",
       "9   0.189767  0.919744  0.182186      0.931818\n",
       "10  0.161145  0.943590  0.156464      0.945574\n",
       "11  0.136700  0.960256  0.134787      0.954545\n",
       "12  0.114748  0.966154  0.113117      0.968900\n",
       "13  0.097743  0.973333  0.098649      0.974880\n",
       "14  0.085075  0.976667  0.088437      0.976077\n",
       "15  0.076149  0.978718  0.083088      0.975478\n",
       "16  0.069314  0.979231  0.075341      0.980263\n",
       "17  0.062933  0.981538  0.071316      0.980263\n",
       "18  0.058485  0.982051  0.069272      0.980263\n",
       "19  0.055016  0.982051  0.065992      0.980263"
      ]
     },
     "execution_count": 29,
     "metadata": {},
     "output_type": "execute_result"
    }
   ],
   "source": [
    "model_loss = pd.DataFrame(model.history.history)\n",
    "model_loss"
   ]
  },
  {
   "cell_type": "code",
   "execution_count": 30,
   "metadata": {},
   "outputs": [
    {
     "data": {
      "image/png": "[encoded data removed]",
      "text/plain": [
       "<Figure size 640x480 with 1 Axes>"
      ]
     },
     "metadata": {},
     "output_type": "display_data"
    }
   ],
   "source": [
    "plt.plot(history.history[\"loss\"], color=\"b\")\n",
    "plt.plot(history.history[\"val_loss\"], color=\"r\")\n",
    "plt.ylabel(\"loss\")\n",
    "plt.xlabel(\"Epochs\")\n",
    "plt.show()"
   ]
  },
  {
   "cell_type": "code",
   "execution_count": 31,
   "metadata": {},
   "outputs": [
    {
     "data": {
      "image/png": "[encoded data removed]",
      "text/plain": [
       "<Figure size 640x480 with 1 Axes>"
      ]
     },
     "metadata": {},
     "output_type": "display_data"
    }
   ],
   "source": [
    "plt.plot(history.history[\"accuracy\"], color=\"b\")\n",
    "plt.plot(history.history[\"val_accuracy\"], color=\"r\")\n",
    "plt.ylabel(\"mean_absolute_error\")\n",
    "plt.xlabel(\"Epochs\")\n",
    "plt.show()"
   ]
  },
  {
   "cell_type": "code",
   "execution_count": 34,
   "metadata": {},
   "outputs": [],
   "source": [
    "df = pd.read_csv('spam.csv', encoding=\"ISO-8859-1\")"
   ]
  },
  {
   "cell_type": "code",
   "execution_count": 35,
   "metadata": {},
   "outputs": [],
   "source": [
    "label = LabelEncoder()\n",
    "df['target'] = label.fit_transform(df['v1'])"
   ]
  },
  {
   "cell_type": "code",
   "execution_count": 36,
   "metadata": {},
   "outputs": [],
   "source": [
    "xtrain, xval, ytrain, yval = train_test_split(df[\"v2\"],df[\"target\"], test_size=0.3)\n",
    "\n",
    "train_data = tf.data.Dataset.from_tensor_slices((xtrain, ytrain))\n",
    "val_data = tf.data.Dataset.from_tensor_slices((xval, yval))"
   ]
  },
  {
   "cell_type": "code",
   "execution_count": 37,
   "metadata": {},
   "outputs": [
    {
     "name": "stdout",
     "output_type": "stream",
     "text": [
      "WARNING:tensorflow:Please fix your imports. Module tensorflow.python.training.tracking.data_structures has been moved to tensorflow.python.trackable.data_structures. The old module will be deleted in version 2.11.\n"
     ]
    }
   ],
   "source": [
    "embedding = \"https://tfhub.dev/google/nnlm-en-dim50/2\"\n",
    "hub_layer = hub.KerasLayer(embedding, input_shape=[], \n",
    "                           dtype=tf.string, trainable=True)\n"
   ]
  },
  {
   "cell_type": "code",
   "execution_count": 38,
   "metadata": {},
   "outputs": [
    {
     "name": "stdout",
     "output_type": "stream",
     "text": [
      "WARNING:tensorflow:From c:\\Users\\jerem\\AppData\\Local\\Programs\\Python\\Python310\\lib\\site-packages\\tensorflow\\python\\autograph\\pyct\\static_analysis\\liveness.py:83: Analyzer.lamba_check (from tensorflow.python.autograph.pyct.static_analysis.liveness) is deprecated and will be removed after 2023-09-23.\n",
      "Instructions for updating:\n",
      "Lambda fuctions will be no more assumed to be used in the statement where they are used, or at least in the same block. https://github.com/tensorflow/tensorflow/issues/56089\n"
     ]
    },
    {
     "name": "stderr",
     "output_type": "stream",
     "text": [
      "WARNING:tensorflow:From c:\\Users\\jerem\\AppData\\Local\\Programs\\Python\\Python310\\lib\\site-packages\\tensorflow\\python\\autograph\\pyct\\static_analysis\\liveness.py:83: Analyzer.lamba_check (from tensorflow.python.autograph.pyct.static_analysis.liveness) is deprecated and will be removed after 2023-09-23.\n",
      "Instructions for updating:\n",
      "Lambda fuctions will be no more assumed to be used in the statement where they are used, or at least in the same block. https://github.com/tensorflow/tensorflow/issues/56089\n"
     ]
    },
    {
     "name": "stdout",
     "output_type": "stream",
     "text": [
      "Model: \"sequential_1\"\n",
      "_________________________________________________________________\n",
      " Layer (type)                Output Shape              Param #   \n",
      "=================================================================\n",
      " keras_layer (KerasLayer)    (None, 50)                48190600  \n",
      "                                                                 \n",
      " dense_2 (Dense)             (None, 16)                816       \n",
      "                                                                 \n",
      " dense_3 (Dense)             (None, 1)                 17        \n",
      "                                                                 \n",
      "=================================================================\n",
      "Total params: 48,191,433\n",
      "Trainable params: 48,191,433\n",
      "Non-trainable params: 0\n",
      "_________________________________________________________________\n"
     ]
    }
   ],
   "source": [
    "model = tf.keras.Sequential()\n",
    "model.add(hub_layer)\n",
    "model.add(tf.keras.layers.Dense(16, activation='relu'))\n",
    "model.add(tf.keras.layers.Dense(1))\n",
    "\n",
    "model.summary()"
   ]
  },
  {
   "cell_type": "code",
   "execution_count": 40,
   "metadata": {},
   "outputs": [],
   "source": [
    "model.compile(optimizer='adam',\n",
    "              loss=tf.keras.losses.BinaryCrossentropy(from_logits=True),\n",
    "              metrics=['accuracy'])"
   ]
  },
  {
   "cell_type": "code",
   "execution_count": 42,
   "metadata": {},
   "outputs": [
    {
     "name": "stdout",
     "output_type": "stream",
     "text": [
      "Epoch 1/20\n",
      "8/8 [==============================] - 4s 434ms/step - loss: 0.6710 - accuracy: 0.8672 - val_loss: 0.6325 - val_accuracy: 0.8642\n",
      "Epoch 2/20\n",
      "8/8 [==============================] - 3s 419ms/step - loss: 0.5946 - accuracy: 0.8672 - val_loss: 0.5624 - val_accuracy: 0.8642\n",
      "Epoch 3/20\n",
      "8/8 [==============================] - 3s 423ms/step - loss: 0.5202 - accuracy: 0.8672 - val_loss: 0.4947 - val_accuracy: 0.8654\n",
      "Epoch 4/20\n",
      "8/8 [==============================] - 3s 434ms/step - loss: 0.4500 - accuracy: 0.8685 - val_loss: 0.4306 - val_accuracy: 0.8684\n",
      "Epoch 5/20\n",
      "8/8 [==============================] - 3s 418ms/step - loss: 0.3835 - accuracy: 0.8749 - val_loss: 0.3726 - val_accuracy: 0.8732\n",
      "Epoch 6/20\n",
      "8/8 [==============================] - 3s 414ms/step - loss: 0.3238 - accuracy: 0.8869 - val_loss: 0.3214 - val_accuracy: 0.8834\n",
      "Epoch 7/20\n",
      "8/8 [==============================] - 3s 416ms/step - loss: 0.2704 - accuracy: 0.9028 - val_loss: 0.2765 - val_accuracy: 0.8917\n",
      "Epoch 8/20\n",
      "8/8 [==============================] - 3s 423ms/step - loss: 0.2234 - accuracy: 0.9221 - val_loss: 0.2374 - val_accuracy: 0.9163\n",
      "Epoch 9/20\n",
      "8/8 [==============================] - 3s 409ms/step - loss: 0.1829 - accuracy: 0.9428 - val_loss: 0.2046 - val_accuracy: 0.9324\n",
      "Epoch 10/20\n",
      "8/8 [==============================] - 3s 415ms/step - loss: 0.1492 - accuracy: 0.9626 - val_loss: 0.1780 - val_accuracy: 0.9486\n",
      "Epoch 11/20\n",
      "8/8 [==============================] - 3s 413ms/step - loss: 0.1219 - accuracy: 0.9738 - val_loss: 0.1576 - val_accuracy: 0.9569\n",
      "Epoch 12/20\n",
      "8/8 [==============================] - 3s 412ms/step - loss: 0.1003 - accuracy: 0.9800 - val_loss: 0.1421 - val_accuracy: 0.9653\n",
      "Epoch 13/20\n",
      "8/8 [==============================] - 3s 412ms/step - loss: 0.0832 - accuracy: 0.9836 - val_loss: 0.1303 - val_accuracy: 0.9683\n",
      "Epoch 14/20\n",
      "8/8 [==============================] - 3s 417ms/step - loss: 0.0694 - accuracy: 0.9867 - val_loss: 0.1213 - val_accuracy: 0.9719\n",
      "Epoch 15/20\n",
      "8/8 [==============================] - 3s 407ms/step - loss: 0.0584 - accuracy: 0.9903 - val_loss: 0.1144 - val_accuracy: 0.9743\n",
      "Epoch 16/20\n",
      "8/8 [==============================] - 3s 407ms/step - loss: 0.0498 - accuracy: 0.9928 - val_loss: 0.1090 - val_accuracy: 0.9755\n",
      "Epoch 17/20\n",
      "8/8 [==============================] - 3s 404ms/step - loss: 0.0425 - accuracy: 0.9949 - val_loss: 0.1051 - val_accuracy: 0.9749\n",
      "Epoch 18/20\n",
      "8/8 [==============================] - 3s 405ms/step - loss: 0.0367 - accuracy: 0.9954 - val_loss: 0.1020 - val_accuracy: 0.9761\n",
      "Epoch 19/20\n",
      "8/8 [==============================] - 3s 401ms/step - loss: 0.0320 - accuracy: 0.9962 - val_loss: 0.0996 - val_accuracy: 0.9767\n",
      "Epoch 20/20\n",
      "8/8 [==============================] - 3s 405ms/step - loss: 0.0279 - accuracy: 0.9969 - val_loss: 0.0978 - val_accuracy: 0.9767\n"
     ]
    }
   ],
   "source": [
    "history = model.fit(train_data.shuffle(10000).batch(512),\n",
    "                    epochs=20,\n",
    "                    validation_data=val_data.batch(512),\n",
    "                    verbose=1)"
   ]
  },
  {
   "cell_type": "code",
   "execution_count": 43,
   "metadata": {},
   "outputs": [
    {
     "data": {
      "text/html": [
       "<div>\n",
       "<style scoped>\n",
       "    .dataframe tbody tr th:only-of-type {\n",
       "        vertical-align: middle;\n",
       "    }\n",
       "\n",
       "    .dataframe tbody tr th {\n",
       "        vertical-align: top;\n",
       "    }\n",
       "\n",
       "    .dataframe thead th {\n",
       "        text-align: right;\n",
       "    }\n",
       "</style>\n",
       "<table border=\"1\" class=\"dataframe\">\n",
       "  <thead>\n",
       "    <tr style=\"text-align: right;\">\n",
       "      <th></th>\n",
       "      <th>loss</th>\n",
       "      <th>accuracy</th>\n",
       "      <th>val_loss</th>\n",
       "      <th>val_accuracy</th>\n",
       "    </tr>\n",
       "  </thead>\n",
       "  <tbody>\n",
       "    <tr>\n",
       "      <th>0</th>\n",
       "      <td>0.671020</td>\n",
       "      <td>0.867180</td>\n",
       "      <td>0.632506</td>\n",
       "      <td>0.864234</td>\n",
       "    </tr>\n",
       "    <tr>\n",
       "      <th>1</th>\n",
       "      <td>0.594615</td>\n",
       "      <td>0.867180</td>\n",
       "      <td>0.562441</td>\n",
       "      <td>0.864234</td>\n",
       "    </tr>\n",
       "    <tr>\n",
       "      <th>2</th>\n",
       "      <td>0.520216</td>\n",
       "      <td>0.867180</td>\n",
       "      <td>0.494726</td>\n",
       "      <td>0.865431</td>\n",
       "    </tr>\n",
       "    <tr>\n",
       "      <th>3</th>\n",
       "      <td>0.449982</td>\n",
       "      <td>0.868462</td>\n",
       "      <td>0.430632</td>\n",
       "      <td>0.868421</td>\n",
       "    </tr>\n",
       "    <tr>\n",
       "      <th>4</th>\n",
       "      <td>0.383484</td>\n",
       "      <td>0.874872</td>\n",
       "      <td>0.372591</td>\n",
       "      <td>0.873206</td>\n",
       "    </tr>\n",
       "    <tr>\n",
       "      <th>5</th>\n",
       "      <td>0.323816</td>\n",
       "      <td>0.886923</td>\n",
       "      <td>0.321363</td>\n",
       "      <td>0.883373</td>\n",
       "    </tr>\n",
       "    <tr>\n",
       "      <th>6</th>\n",
       "      <td>0.270442</td>\n",
       "      <td>0.902821</td>\n",
       "      <td>0.276534</td>\n",
       "      <td>0.891746</td>\n",
       "    </tr>\n",
       "    <tr>\n",
       "      <th>7</th>\n",
       "      <td>0.223398</td>\n",
       "      <td>0.922051</td>\n",
       "      <td>0.237377</td>\n",
       "      <td>0.916268</td>\n",
       "    </tr>\n",
       "    <tr>\n",
       "      <th>8</th>\n",
       "      <td>0.182949</td>\n",
       "      <td>0.942820</td>\n",
       "      <td>0.204556</td>\n",
       "      <td>0.932416</td>\n",
       "    </tr>\n",
       "    <tr>\n",
       "      <th>9</th>\n",
       "      <td>0.149177</td>\n",
       "      <td>0.962564</td>\n",
       "      <td>0.177957</td>\n",
       "      <td>0.948565</td>\n",
       "    </tr>\n",
       "    <tr>\n",
       "      <th>10</th>\n",
       "      <td>0.121909</td>\n",
       "      <td>0.973846</td>\n",
       "      <td>0.157558</td>\n",
       "      <td>0.956938</td>\n",
       "    </tr>\n",
       "    <tr>\n",
       "      <th>11</th>\n",
       "      <td>0.100281</td>\n",
       "      <td>0.980000</td>\n",
       "      <td>0.142059</td>\n",
       "      <td>0.965311</td>\n",
       "    </tr>\n",
       "    <tr>\n",
       "      <th>12</th>\n",
       "      <td>0.083237</td>\n",
       "      <td>0.983590</td>\n",
       "      <td>0.130260</td>\n",
       "      <td>0.968301</td>\n",
       "    </tr>\n",
       "    <tr>\n",
       "      <th>13</th>\n",
       "      <td>0.069426</td>\n",
       "      <td>0.986667</td>\n",
       "      <td>0.121274</td>\n",
       "      <td>0.971890</td>\n",
       "    </tr>\n",
       "    <tr>\n",
       "      <th>14</th>\n",
       "      <td>0.058383</td>\n",
       "      <td>0.990256</td>\n",
       "      <td>0.114367</td>\n",
       "      <td>0.974282</td>\n",
       "    </tr>\n",
       "    <tr>\n",
       "      <th>15</th>\n",
       "      <td>0.049790</td>\n",
       "      <td>0.992821</td>\n",
       "      <td>0.108979</td>\n",
       "      <td>0.975478</td>\n",
       "    </tr>\n",
       "    <tr>\n",
       "      <th>16</th>\n",
       "      <td>0.042500</td>\n",
       "      <td>0.994872</td>\n",
       "      <td>0.105056</td>\n",
       "      <td>0.974880</td>\n",
       "    </tr>\n",
       "    <tr>\n",
       "      <th>17</th>\n",
       "      <td>0.036708</td>\n",
       "      <td>0.995385</td>\n",
       "      <td>0.102039</td>\n",
       "      <td>0.976077</td>\n",
       "    </tr>\n",
       "    <tr>\n",
       "      <th>18</th>\n",
       "      <td>0.031973</td>\n",
       "      <td>0.996154</td>\n",
       "      <td>0.099642</td>\n",
       "      <td>0.976675</td>\n",
       "    </tr>\n",
       "    <tr>\n",
       "      <th>19</th>\n",
       "      <td>0.027869</td>\n",
       "      <td>0.996923</td>\n",
       "      <td>0.097848</td>\n",
       "      <td>0.976675</td>\n",
       "    </tr>\n",
       "  </tbody>\n",
       "</table>\n",
       "</div>"
      ],
      "text/plain": [
       "        loss  accuracy  val_loss  val_accuracy\n",
       "0   0.671020  0.867180  0.632506      0.864234\n",
       "1   0.594615  0.867180  0.562441      0.864234\n",
       "2   0.520216  0.867180  0.494726      0.865431\n",
       "3   0.449982  0.868462  0.430632      0.868421\n",
       "4   0.383484  0.874872  0.372591      0.873206\n",
       "5   0.323816  0.886923  0.321363      0.883373\n",
       "6   0.270442  0.902821  0.276534      0.891746\n",
       "7   0.223398  0.922051  0.237377      0.916268\n",
       "8   0.182949  0.942820  0.204556      0.932416\n",
       "9   0.149177  0.962564  0.177957      0.948565\n",
       "10  0.121909  0.973846  0.157558      0.956938\n",
       "11  0.100281  0.980000  0.142059      0.965311\n",
       "12  0.083237  0.983590  0.130260      0.968301\n",
       "13  0.069426  0.986667  0.121274      0.971890\n",
       "14  0.058383  0.990256  0.114367      0.974282\n",
       "15  0.049790  0.992821  0.108979      0.975478\n",
       "16  0.042500  0.994872  0.105056      0.974880\n",
       "17  0.036708  0.995385  0.102039      0.976077\n",
       "18  0.031973  0.996154  0.099642      0.976675\n",
       "19  0.027869  0.996923  0.097848      0.976675"
      ]
     },
     "execution_count": 43,
     "metadata": {},
     "output_type": "execute_result"
    }
   ],
   "source": [
    "model_loss = pd.DataFrame(model.history.history)\n",
    "model_loss"
   ]
  },
  {
   "cell_type": "code",
   "execution_count": 44,
   "metadata": {},
   "outputs": [
    {
     "data": {
      "image/png": "[encoded data removed]",
      "text/plain": [
       "<Figure size 640x480 with 1 Axes>"
      ]
     },
     "metadata": {},
     "output_type": "display_data"
    }
   ],
   "source": [
    "plt.plot(history.history[\"loss\"], color=\"b\")\n",
    "plt.plot(history.history[\"val_loss\"], color=\"r\")\n",
    "plt.ylabel(\"loss\")\n",
    "plt.xlabel(\"Epochs\")\n",
    "plt.show()"
   ]
  },
  {
   "cell_type": "code",
   "execution_count": 45,
   "metadata": {},
   "outputs": [
    {
     "data": {
      "image/png": "[encoded data removed]",
      "text/plain": [
       "<Figure size 640x480 with 1 Axes>"
      ]
     },
     "metadata": {},
     "output_type": "display_data"
    }
   ],
   "source": [
    "plt.plot(history.history[\"accuracy\"], color=\"b\")\n",
    "plt.plot(history.history[\"val_accuracy\"], color=\"r\")\n",
    "plt.ylabel(\"mean_absolute_error\")\n",
    "plt.xlabel(\"Epochs\")\n",
    "plt.show()"
   ]
  }
 ],
 "metadata": {
  "kernelspec": {
   "display_name": "Python 3.10.2 64-bit",
   "language": "python",
   "name": "python3"
  },
  "language_info": {
   "codemirror_mode": {
    "name": "ipython",
    "version": 3
   },
   "file_extension": ".py",
   "mimetype": "text/x-python",
   "name": "python",
   "nbconvert_exporter": "python",
   "pygments_lexer": "ipython3",
   "version": "3.10.2"
  },
  "orig_nbformat": 4,
  "vscode": {
   "interpreter": {
    "hash": "23e0aedb6d47e040503db7fcf09a0dff3cea72eb7d5d4c2596a602b1504b448c"
   }
  }
 },
 "nbformat": 4,
 "nbformat_minor": 2
}
