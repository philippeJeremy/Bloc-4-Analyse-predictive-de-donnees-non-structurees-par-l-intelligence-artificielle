{
 "cells": [
  {
   "cell_type": "code",
   "execution_count": 1,
   "metadata": {},
   "outputs": [],
   "source": [
    "import os\n",
    "import io\n",
    "import en_core_web_lg\n",
    "\n",
    "import pandas as pd \n",
    "import tensorflow as tf \n",
    "import plotly.express as px\n",
    "import tensorflow_hub as hub\n",
    "import matplotlib.pyplot as plt\n",
    "import plotly.graph_objects as go\n",
    "\n",
    "from sklearn.preprocessing import LabelEncoder\n",
    "from spacy.lang.en.stop_words import STOP_WORDS\n",
    "from sklearn.model_selection import train_test_split\n",
    "\n",
    "nlp = en_core_web_lg.load()"
   ]
  },
  {
   "cell_type": "code",
   "execution_count": 2,
   "metadata": {},
   "outputs": [],
   "source": [
    "df = pd.read_csv('spam.csv', encoding=\"ISO-8859-1\")"
   ]
  },
  {
   "cell_type": "code",
   "execution_count": 3,
   "metadata": {},
   "outputs": [
    {
     "data": {
      "text/html": [
       "<div>\n",
       "<style scoped>\n",
       "    .dataframe tbody tr th:only-of-type {\n",
       "        vertical-align: middle;\n",
       "    }\n",
       "\n",
       "    .dataframe tbody tr th {\n",
       "        vertical-align: top;\n",
       "    }\n",
       "\n",
       "    .dataframe thead th {\n",
       "        text-align: right;\n",
       "    }\n",
       "</style>\n",
       "<table border=\"1\" class=\"dataframe\">\n",
       "  <thead>\n",
       "    <tr style=\"text-align: right;\">\n",
       "      <th></th>\n",
       "      <th>v1</th>\n",
       "      <th>v2</th>\n",
       "      <th>Unnamed: 2</th>\n",
       "      <th>Unnamed: 3</th>\n",
       "      <th>Unnamed: 4</th>\n",
       "    </tr>\n",
       "  </thead>\n",
       "  <tbody>\n",
       "    <tr>\n",
       "      <th>0</th>\n",
       "      <td>ham</td>\n",
       "      <td>Go until jurong point, crazy.. Available only ...</td>\n",
       "      <td>NaN</td>\n",
       "      <td>NaN</td>\n",
       "      <td>NaN</td>\n",
       "    </tr>\n",
       "    <tr>\n",
       "      <th>1</th>\n",
       "      <td>ham</td>\n",
       "      <td>Ok lar... Joking wif u oni...</td>\n",
       "      <td>NaN</td>\n",
       "      <td>NaN</td>\n",
       "      <td>NaN</td>\n",
       "    </tr>\n",
       "    <tr>\n",
       "      <th>2</th>\n",
       "      <td>spam</td>\n",
       "      <td>Free entry in 2 a wkly comp to win FA Cup fina...</td>\n",
       "      <td>NaN</td>\n",
       "      <td>NaN</td>\n",
       "      <td>NaN</td>\n",
       "    </tr>\n",
       "    <tr>\n",
       "      <th>3</th>\n",
       "      <td>ham</td>\n",
       "      <td>U dun say so early hor... U c already then say...</td>\n",
       "      <td>NaN</td>\n",
       "      <td>NaN</td>\n",
       "      <td>NaN</td>\n",
       "    </tr>\n",
       "    <tr>\n",
       "      <th>4</th>\n",
       "      <td>ham</td>\n",
       "      <td>Nah I don't think he goes to usf, he lives aro...</td>\n",
       "      <td>NaN</td>\n",
       "      <td>NaN</td>\n",
       "      <td>NaN</td>\n",
       "    </tr>\n",
       "    <tr>\n",
       "      <th>...</th>\n",
       "      <td>...</td>\n",
       "      <td>...</td>\n",
       "      <td>...</td>\n",
       "      <td>...</td>\n",
       "      <td>...</td>\n",
       "    </tr>\n",
       "    <tr>\n",
       "      <th>5567</th>\n",
       "      <td>spam</td>\n",
       "      <td>This is the 2nd time we have tried 2 contact u...</td>\n",
       "      <td>NaN</td>\n",
       "      <td>NaN</td>\n",
       "      <td>NaN</td>\n",
       "    </tr>\n",
       "    <tr>\n",
       "      <th>5568</th>\n",
       "      <td>ham</td>\n",
       "      <td>Will Ì_ b going to esplanade fr home?</td>\n",
       "      <td>NaN</td>\n",
       "      <td>NaN</td>\n",
       "      <td>NaN</td>\n",
       "    </tr>\n",
       "    <tr>\n",
       "      <th>5569</th>\n",
       "      <td>ham</td>\n",
       "      <td>Pity, * was in mood for that. So...any other s...</td>\n",
       "      <td>NaN</td>\n",
       "      <td>NaN</td>\n",
       "      <td>NaN</td>\n",
       "    </tr>\n",
       "    <tr>\n",
       "      <th>5570</th>\n",
       "      <td>ham</td>\n",
       "      <td>The guy did some bitching but I acted like i'd...</td>\n",
       "      <td>NaN</td>\n",
       "      <td>NaN</td>\n",
       "      <td>NaN</td>\n",
       "    </tr>\n",
       "    <tr>\n",
       "      <th>5571</th>\n",
       "      <td>ham</td>\n",
       "      <td>Rofl. Its true to its name</td>\n",
       "      <td>NaN</td>\n",
       "      <td>NaN</td>\n",
       "      <td>NaN</td>\n",
       "    </tr>\n",
       "  </tbody>\n",
       "</table>\n",
       "<p>5572 rows × 5 columns</p>\n",
       "</div>"
      ],
      "text/plain": [
       "        v1                                                 v2 Unnamed: 2  \\\n",
       "0      ham  Go until jurong point, crazy.. Available only ...        NaN   \n",
       "1      ham                      Ok lar... Joking wif u oni...        NaN   \n",
       "2     spam  Free entry in 2 a wkly comp to win FA Cup fina...        NaN   \n",
       "3      ham  U dun say so early hor... U c already then say...        NaN   \n",
       "4      ham  Nah I don't think he goes to usf, he lives aro...        NaN   \n",
       "...    ...                                                ...        ...   \n",
       "5567  spam  This is the 2nd time we have tried 2 contact u...        NaN   \n",
       "5568   ham              Will Ì_ b going to esplanade fr home?        NaN   \n",
       "5569   ham  Pity, * was in mood for that. So...any other s...        NaN   \n",
       "5570   ham  The guy did some bitching but I acted like i'd...        NaN   \n",
       "5571   ham                         Rofl. Its true to its name        NaN   \n",
       "\n",
       "     Unnamed: 3 Unnamed: 4  \n",
       "0           NaN        NaN  \n",
       "1           NaN        NaN  \n",
       "2           NaN        NaN  \n",
       "3           NaN        NaN  \n",
       "4           NaN        NaN  \n",
       "...         ...        ...  \n",
       "5567        NaN        NaN  \n",
       "5568        NaN        NaN  \n",
       "5569        NaN        NaN  \n",
       "5570        NaN        NaN  \n",
       "5571        NaN        NaN  \n",
       "\n",
       "[5572 rows x 5 columns]"
      ]
     },
     "execution_count": 3,
     "metadata": {},
     "output_type": "execute_result"
    }
   ],
   "source": [
    "df"
   ]
  },
  {
   "cell_type": "code",
   "execution_count": 4,
   "metadata": {},
   "outputs": [
    {
     "data": {
      "text/plain": [
       "v1             0.000000\n",
       "v2             0.000000\n",
       "Unnamed: 2    99.102656\n",
       "Unnamed: 3    99.784637\n",
       "Unnamed: 4    99.892319\n",
       "dtype: float64"
      ]
     },
     "metadata": {},
     "output_type": "display_data"
    }
   ],
   "source": [
    "display(100*df.isnull().sum()/df.shape[0])"
   ]
  },
  {
   "cell_type": "code",
   "execution_count": 5,
   "metadata": {},
   "outputs": [],
   "source": [
    "# delete empty columns\n",
    "df.drop(columns=[\"Unnamed: 2\", \"Unnamed: 3\", \"Unnamed: 4\"], inplace=True)"
   ]
  },
  {
   "cell_type": "code",
   "execution_count": 6,
   "metadata": {},
   "outputs": [],
   "source": [
    "# data cleaning with lemmatization\n",
    "df[\"review_clean\"] = df[\"v2\"].apply(lambda x:''.join(ch for ch in x if ch.isalnum() or ch==\" \" or ch==\"'\"))\n",
    "df[\"review_clean\"] = df[\"review_clean\"].apply(lambda x: x.replace(\" +\",\" \").lower().strip())\n",
    "df[\"review_clean\"] = df[\"review_clean\"].apply(lambda x: \" \".join([token.lemma_ for token in nlp(x) if (token.lemma_ not in STOP_WORDS) and (token.text not in STOP_WORDS)]))\n",
    "df[\"len_review\"] = df[\"review_clean\"].apply(lambda x: len(x))\n",
    "# label encoding\n",
    "label = LabelEncoder()\n",
    "df['target'] = label.fit_transform(df['v1'])"
   ]
  },
  {
   "cell_type": "code",
   "execution_count": 7,
   "metadata": {},
   "outputs": [
    {
     "data": {
      "text/plain": [
       "v1              0.0\n",
       "v2              0.0\n",
       "review_clean    0.0\n",
       "len_review      0.0\n",
       "target          0.0\n",
       "dtype: float64"
      ]
     },
     "metadata": {},
     "output_type": "display_data"
    }
   ],
   "source": [
    "display(100*df.isnull().sum()/df.shape[0])"
   ]
  },
  {
   "cell_type": "code",
   "execution_count": 8,
   "metadata": {},
   "outputs": [
    {
     "data": {
      "text/plain": [
       "<AxesSubplot: >"
      ]
     },
     "execution_count": 8,
     "metadata": {},
     "output_type": "execute_result"
    },
    {
     "data": {
      "image/png": "[encoded data removed]",
      "text/plain": [
       "<Figure size 640x480 with 1 Axes>"
      ]
     },
     "metadata": {},
     "output_type": "display_data"
    }
   ],
   "source": [
    "df['len_review'].value_counts().sort_index().plot(kind='bar')"
   ]
  },
  {
   "cell_type": "code",
   "execution_count": 9,
   "metadata": {},
   "outputs": [],
   "source": [
    "# text-to-digital transformation for computer comprehension\n",
    "tokenizer = tf.keras.preprocessing.text.Tokenizer(num_words=1000) \n",
    "tokenizer.fit_on_texts(df[\"review_clean\"])\n",
    "df[\"review_encoded\"] = tokenizer.texts_to_sequences(df[\"review_clean\"])"
   ]
  },
  {
   "cell_type": "code",
   "execution_count": 10,
   "metadata": {},
   "outputs": [],
   "source": [
    "# addition of a pading to have an entry shape in the model which is identical\n",
    "reviews_pad = tf.keras.preprocessing.sequence.pad_sequences(df[\"review_encoded\"], padding=\"post\")\n",
    "# creation of test data and validation\n",
    "xtrain, xval, ytrain, yval = train_test_split(reviews_pad,df[\"target\"], test_size=0.3)\n",
    "\n",
    "train = tf.data.Dataset.from_tensor_slices((xtrain, ytrain))\n",
    "val = tf.data.Dataset.from_tensor_slices((xval, yval))\n",
    "\n",
    "train_batch = train.shuffle(len(train)).batch(64)\n",
    "val_batch = val.shuffle(len(val)).batch(64)"
   ]
  },
  {
   "cell_type": "code",
   "execution_count": 11,
   "metadata": {},
   "outputs": [
    {
     "name": "stdout",
     "output_type": "stream",
     "text": [
      "tf.Tensor(\n",
      "[[ 73 156   0 ...   0   0   0]\n",
      " [147 191 183 ...   0   0   0]\n",
      " [635  58   0 ...   0   0   0]\n",
      " ...\n",
      " [727 376 174 ...   0   0   0]\n",
      " [112 275  19 ...   0   0   0]\n",
      " [185   5 278 ...   0   0   0]], shape=(64, 54), dtype=int32) tf.Tensor(\n",
      "[0 0 0 0 0 0 0 0 1 0 0 0 1 0 0 0 0 0 0 0 0 0 0 0 0 0 0 0 0 0 0 1 0 0 0 0 0\n",
      " 0 1 0 0 0 0 0 0 0 0 0 0 0 0 0 0 0 0 0 0 0 0 0 0 1 0 0], shape=(64,), dtype=int32)\n"
     ]
    }
   ],
   "source": [
    "for review, star in train_batch.take(1):\n",
    "  print(review, star)"
   ]
  },
  {
   "cell_type": "code",
   "execution_count": 12,
   "metadata": {},
   "outputs": [
    {
     "data": {
      "image/png": "[encoded data removed]",
      "text/plain": [
       "<IPython.core.display.Image object>"
      ]
     },
     "execution_count": 12,
     "metadata": {},
     "output_type": "execute_result"
    }
   ],
   "source": [
    "# creation of the model\n",
    "vocab_size = len(tokenizer.word_index)\n",
    "model = tf.keras.Sequential([             \n",
    "            tf.keras.layers.Embedding(vocab_size+1, 8, input_shape=[review.shape[1],],name=\"embedding\"),  \n",
    "            tf.keras.layers.GlobalAveragePooling1D(),\n",
    "            tf.keras.layers.Dense(32, activation='relu'),\n",
    "            tf.keras.layers.Dropout(0.2),  \n",
    "            tf.keras.layers.Dense(16, activation='relu'),      \n",
    "            tf.keras.layers.Dense(1, activation=\"sigmoid\")\n",
    "                ])\n",
    "\n",
    "tf.keras.utils.plot_model(model, show_shapes=True)"
   ]
  },
  {
   "cell_type": "code",
   "execution_count": 13,
   "metadata": {},
   "outputs": [],
   "source": [
    "# determination of loss and accuracy calculation data\n",
    "optimizer= tf.keras.optimizers.Adam(learning_rate=0.001)\n",
    "\n",
    "model.compile(optimizer=optimizer,\n",
    "              loss=tf.keras.losses.BinaryCrossentropy(),\n",
    "              metrics=[\"accuracy\"])"
   ]
  },
  {
   "cell_type": "code",
   "execution_count": 14,
   "metadata": {},
   "outputs": [
    {
     "name": "stdout",
     "output_type": "stream",
     "text": [
      "Model: \"sequential\"\n",
      "_________________________________________________________________\n",
      " Layer (type)                Output Shape              Param #   \n",
      "=================================================================\n",
      " embedding (Embedding)       (None, 54, 8)             65528     \n",
      "                                                                 \n",
      " global_average_pooling1d (G  (None, 8)                0         \n",
      " lobalAveragePooling1D)                                          \n",
      "                                                                 \n",
      " dense (Dense)               (None, 32)                288       \n",
      "                                                                 \n",
      " dense_1 (Dense)             (None, 16)                528       \n",
      "                                                                 \n",
      " dense_2 (Dense)             (None, 1)                 17        \n",
      "                                                                 \n",
      "=================================================================\n",
      "Total params: 66,361\n",
      "Trainable params: 66,361\n",
      "Non-trainable params: 0\n",
      "_________________________________________________________________\n"
     ]
    }
   ],
   "source": [
    "# visualization of the model\n",
    "model.summary()"
   ]
  },
  {
   "cell_type": "code",
   "execution_count": null,
   "metadata": {},
   "outputs": [],
   "source": [
    "weights = 1/(df[\"target\"]).value_counts()\n",
    "weights = weights * len(df)/13\n",
    "weights = {index: values for index,\n",
    "            values in zip(weights.index, weights.values)}"
   ]
  },
  {
   "cell_type": "code",
   "execution_count": null,
   "metadata": {},
   "outputs": [],
   "source": [
    "Checkpoint_create = tf.keras.callbacks.ModelCheckpoint(\n",
    "                        filepath='model_weights.hdf5',\n",
    "                        monitor='val_loss',\n",
    "                        verbose=1,\n",
    "                        save_best_only=True,\n",
    "                        save_weights_only=False,\n",
    "                        mode='auto',\n",
    "                        save_freq='epoch',\n",
    "                        period=1)"
   ]
  },
  {
   "cell_type": "code",
   "execution_count": 15,
   "metadata": {},
   "outputs": [
    {
     "name": "stdout",
     "output_type": "stream",
     "text": [
      "Epoch 1/20\n",
      "61/61 [==============================] - 1s 4ms/step - loss: 0.6597 - accuracy: 0.8459 - val_loss: 0.6098 - val_accuracy: 0.8565\n",
      "Epoch 2/20\n",
      "61/61 [==============================] - 0s 3ms/step - loss: 0.5001 - accuracy: 0.8700 - val_loss: 0.4021 - val_accuracy: 0.8565\n",
      "Epoch 3/20\n",
      "61/61 [==============================] - 0s 2ms/step - loss: 0.3610 - accuracy: 0.8700 - val_loss: 0.3776 - val_accuracy: 0.8565\n",
      "Epoch 4/20\n",
      "61/61 [==============================] - 0s 2ms/step - loss: 0.3458 - accuracy: 0.8700 - val_loss: 0.3633 - val_accuracy: 0.8565\n",
      "Epoch 5/20\n",
      "61/61 [==============================] - 0s 2ms/step - loss: 0.3297 - accuracy: 0.8700 - val_loss: 0.3404 - val_accuracy: 0.8565\n",
      "Epoch 6/20\n",
      "61/61 [==============================] - 0s 2ms/step - loss: 0.2955 - accuracy: 0.8700 - val_loss: 0.2882 - val_accuracy: 0.8571\n",
      "Epoch 7/20\n",
      "61/61 [==============================] - 0s 2ms/step - loss: 0.2222 - accuracy: 0.8938 - val_loss: 0.1857 - val_accuracy: 0.9336\n",
      "Epoch 8/20\n",
      "61/61 [==============================] - 0s 2ms/step - loss: 0.1204 - accuracy: 0.9649 - val_loss: 0.1070 - val_accuracy: 0.9737\n",
      "Epoch 9/20\n",
      "61/61 [==============================] - 0s 2ms/step - loss: 0.0752 - accuracy: 0.9785 - val_loss: 0.0837 - val_accuracy: 0.9749\n",
      "Epoch 10/20\n",
      "61/61 [==============================] - 0s 2ms/step - loss: 0.0586 - accuracy: 0.9836 - val_loss: 0.0756 - val_accuracy: 0.9761\n",
      "Epoch 11/20\n",
      "61/61 [==============================] - 0s 2ms/step - loss: 0.0493 - accuracy: 0.9859 - val_loss: 0.0725 - val_accuracy: 0.9767\n",
      "Epoch 12/20\n",
      "61/61 [==============================] - 0s 1ms/step - loss: 0.0432 - accuracy: 0.9872 - val_loss: 0.0667 - val_accuracy: 0.9815\n",
      "Epoch 13/20\n",
      "61/61 [==============================] - 0s 2ms/step - loss: 0.0407 - accuracy: 0.9879 - val_loss: 0.0671 - val_accuracy: 0.9785\n",
      "Epoch 14/20\n",
      "61/61 [==============================] - 0s 2ms/step - loss: 0.0351 - accuracy: 0.9897 - val_loss: 0.0645 - val_accuracy: 0.9827\n",
      "Epoch 15/20\n",
      "61/61 [==============================] - 0s 1ms/step - loss: 0.0319 - accuracy: 0.9905 - val_loss: 0.0644 - val_accuracy: 0.9815\n",
      "Epoch 16/20\n",
      "61/61 [==============================] - 0s 1ms/step - loss: 0.0291 - accuracy: 0.9910 - val_loss: 0.0641 - val_accuracy: 0.9821\n",
      "Epoch 17/20\n",
      "61/61 [==============================] - 0s 1ms/step - loss: 0.0282 - accuracy: 0.9903 - val_loss: 0.0640 - val_accuracy: 0.9821\n",
      "Epoch 18/20\n",
      "61/61 [==============================] - 0s 2ms/step - loss: 0.0256 - accuracy: 0.9915 - val_loss: 0.0635 - val_accuracy: 0.9815\n",
      "Epoch 19/20\n",
      "61/61 [==============================] - 0s 2ms/step - loss: 0.0235 - accuracy: 0.9933 - val_loss: 0.0634 - val_accuracy: 0.9833\n",
      "Epoch 20/20\n",
      "61/61 [==============================] - 0s 2ms/step - loss: 0.0216 - accuracy: 0.9941 - val_loss: 0.0713 - val_accuracy: 0.9797\n"
     ]
    },
    {
     "data": {
      "text/plain": [
       "<keras.callbacks.History at 0x21543fbc4f0>"
      ]
     },
     "execution_count": 15,
     "metadata": {},
     "output_type": "execute_result"
    }
   ],
   "source": [
    "# train model\n",
    "model.fit(train_batch, \n",
    "            epochs=20, \n",
    "            validation_data=val_batch,\n",
    "            class_weight=weights,\n",
    "            callbacks=Checkpoint_create)"
   ]
  },
  {
   "cell_type": "code",
   "execution_count": 16,
   "metadata": {},
   "outputs": [
    {
     "data": {
      "text/html": [
       "<div>\n",
       "<style scoped>\n",
       "    .dataframe tbody tr th:only-of-type {\n",
       "        vertical-align: middle;\n",
       "    }\n",
       "\n",
       "    .dataframe tbody tr th {\n",
       "        vertical-align: top;\n",
       "    }\n",
       "\n",
       "    .dataframe thead th {\n",
       "        text-align: right;\n",
       "    }\n",
       "</style>\n",
       "<table border=\"1\" class=\"dataframe\">\n",
       "  <thead>\n",
       "    <tr style=\"text-align: right;\">\n",
       "      <th></th>\n",
       "      <th>loss</th>\n",
       "      <th>accuracy</th>\n",
       "      <th>val_loss</th>\n",
       "      <th>val_accuracy</th>\n",
       "    </tr>\n",
       "  </thead>\n",
       "  <tbody>\n",
       "    <tr>\n",
       "      <th>0</th>\n",
       "      <td>0.659691</td>\n",
       "      <td>0.845897</td>\n",
       "      <td>0.609791</td>\n",
       "      <td>0.856459</td>\n",
       "    </tr>\n",
       "    <tr>\n",
       "      <th>1</th>\n",
       "      <td>0.500069</td>\n",
       "      <td>0.870000</td>\n",
       "      <td>0.402085</td>\n",
       "      <td>0.856459</td>\n",
       "    </tr>\n",
       "    <tr>\n",
       "      <th>2</th>\n",
       "      <td>0.360953</td>\n",
       "      <td>0.870000</td>\n",
       "      <td>0.377568</td>\n",
       "      <td>0.856459</td>\n",
       "    </tr>\n",
       "    <tr>\n",
       "      <th>3</th>\n",
       "      <td>0.345844</td>\n",
       "      <td>0.870000</td>\n",
       "      <td>0.363260</td>\n",
       "      <td>0.856459</td>\n",
       "    </tr>\n",
       "    <tr>\n",
       "      <th>4</th>\n",
       "      <td>0.329668</td>\n",
       "      <td>0.870000</td>\n",
       "      <td>0.340418</td>\n",
       "      <td>0.856459</td>\n",
       "    </tr>\n",
       "    <tr>\n",
       "      <th>5</th>\n",
       "      <td>0.295538</td>\n",
       "      <td>0.870000</td>\n",
       "      <td>0.288222</td>\n",
       "      <td>0.857057</td>\n",
       "    </tr>\n",
       "    <tr>\n",
       "      <th>6</th>\n",
       "      <td>0.222185</td>\n",
       "      <td>0.893846</td>\n",
       "      <td>0.185689</td>\n",
       "      <td>0.933612</td>\n",
       "    </tr>\n",
       "    <tr>\n",
       "      <th>7</th>\n",
       "      <td>0.120396</td>\n",
       "      <td>0.964872</td>\n",
       "      <td>0.106983</td>\n",
       "      <td>0.973684</td>\n",
       "    </tr>\n",
       "    <tr>\n",
       "      <th>8</th>\n",
       "      <td>0.075246</td>\n",
       "      <td>0.978462</td>\n",
       "      <td>0.083739</td>\n",
       "      <td>0.974880</td>\n",
       "    </tr>\n",
       "    <tr>\n",
       "      <th>9</th>\n",
       "      <td>0.058635</td>\n",
       "      <td>0.983590</td>\n",
       "      <td>0.075592</td>\n",
       "      <td>0.976077</td>\n",
       "    </tr>\n",
       "    <tr>\n",
       "      <th>10</th>\n",
       "      <td>0.049287</td>\n",
       "      <td>0.985897</td>\n",
       "      <td>0.072468</td>\n",
       "      <td>0.976675</td>\n",
       "    </tr>\n",
       "    <tr>\n",
       "      <th>11</th>\n",
       "      <td>0.043240</td>\n",
       "      <td>0.987179</td>\n",
       "      <td>0.066731</td>\n",
       "      <td>0.981459</td>\n",
       "    </tr>\n",
       "    <tr>\n",
       "      <th>12</th>\n",
       "      <td>0.040652</td>\n",
       "      <td>0.987949</td>\n",
       "      <td>0.067141</td>\n",
       "      <td>0.978469</td>\n",
       "    </tr>\n",
       "    <tr>\n",
       "      <th>13</th>\n",
       "      <td>0.035128</td>\n",
       "      <td>0.989744</td>\n",
       "      <td>0.064499</td>\n",
       "      <td>0.982656</td>\n",
       "    </tr>\n",
       "    <tr>\n",
       "      <th>14</th>\n",
       "      <td>0.031892</td>\n",
       "      <td>0.990513</td>\n",
       "      <td>0.064437</td>\n",
       "      <td>0.981459</td>\n",
       "    </tr>\n",
       "    <tr>\n",
       "      <th>15</th>\n",
       "      <td>0.029055</td>\n",
       "      <td>0.991026</td>\n",
       "      <td>0.064136</td>\n",
       "      <td>0.982057</td>\n",
       "    </tr>\n",
       "    <tr>\n",
       "      <th>16</th>\n",
       "      <td>0.028193</td>\n",
       "      <td>0.990256</td>\n",
       "      <td>0.063955</td>\n",
       "      <td>0.982057</td>\n",
       "    </tr>\n",
       "    <tr>\n",
       "      <th>17</th>\n",
       "      <td>0.025624</td>\n",
       "      <td>0.991538</td>\n",
       "      <td>0.063519</td>\n",
       "      <td>0.981459</td>\n",
       "    </tr>\n",
       "    <tr>\n",
       "      <th>18</th>\n",
       "      <td>0.023485</td>\n",
       "      <td>0.993333</td>\n",
       "      <td>0.063424</td>\n",
       "      <td>0.983254</td>\n",
       "    </tr>\n",
       "    <tr>\n",
       "      <th>19</th>\n",
       "      <td>0.021631</td>\n",
       "      <td>0.994103</td>\n",
       "      <td>0.071334</td>\n",
       "      <td>0.979665</td>\n",
       "    </tr>\n",
       "  </tbody>\n",
       "</table>\n",
       "</div>"
      ],
      "text/plain": [
       "        loss  accuracy  val_loss  val_accuracy\n",
       "0   0.659691  0.845897  0.609791      0.856459\n",
       "1   0.500069  0.870000  0.402085      0.856459\n",
       "2   0.360953  0.870000  0.377568      0.856459\n",
       "3   0.345844  0.870000  0.363260      0.856459\n",
       "4   0.329668  0.870000  0.340418      0.856459\n",
       "5   0.295538  0.870000  0.288222      0.857057\n",
       "6   0.222185  0.893846  0.185689      0.933612\n",
       "7   0.120396  0.964872  0.106983      0.973684\n",
       "8   0.075246  0.978462  0.083739      0.974880\n",
       "9   0.058635  0.983590  0.075592      0.976077\n",
       "10  0.049287  0.985897  0.072468      0.976675\n",
       "11  0.043240  0.987179  0.066731      0.981459\n",
       "12  0.040652  0.987949  0.067141      0.978469\n",
       "13  0.035128  0.989744  0.064499      0.982656\n",
       "14  0.031892  0.990513  0.064437      0.981459\n",
       "15  0.029055  0.991026  0.064136      0.982057\n",
       "16  0.028193  0.990256  0.063955      0.982057\n",
       "17  0.025624  0.991538  0.063519      0.981459\n",
       "18  0.023485  0.993333  0.063424      0.983254\n",
       "19  0.021631  0.994103  0.071334      0.979665"
      ]
     },
     "execution_count": 16,
     "metadata": {},
     "output_type": "execute_result"
    }
   ],
   "source": [
    "# accuracy score and loss\n",
    "history_model = pd.DataFrame(model.history.history)\n",
    "history_model"
   ]
  },
  {
   "cell_type": "code",
   "execution_count": 17,
   "metadata": {},
   "outputs": [
    {
     "data": {
      "image/png": "[encoded data removed]",
      "text/plain": [
       "<Figure size 640x480 with 1 Axes>"
      ]
     },
     "metadata": {},
     "output_type": "display_data"
    }
   ],
   "source": [
    "# visualization of the loss\n",
    "plt.plot(history_model[\"loss\"], color=\"b\")\n",
    "plt.plot(history_model[\"val_loss\"], color=\"r\")\n",
    "plt.ylabel(\"loss\")\n",
    "plt.xlabel(\"Epochs\")\n",
    "plt.show()"
   ]
  },
  {
   "cell_type": "code",
   "execution_count": 18,
   "metadata": {},
   "outputs": [
    {
     "data": {
      "image/png": "[encoded data removed]",
      "text/plain": [
       "<Figure size 640x480 with 1 Axes>"
      ]
     },
     "metadata": {},
     "output_type": "display_data"
    }
   ],
   "source": [
    "# visualization of accuracy\n",
    "plt.plot(history_model[\"accuracy\"], color=\"b\")\n",
    "plt.plot(history_model[\"val_accuracy\"], color=\"r\")\n",
    "plt.ylabel(\"accuracy\")\n",
    "plt.xlabel(\"Epochs\")\n",
    "plt.show()"
   ]
  },
  {
   "attachments": {},
   "cell_type": "markdown",
   "metadata": {},
   "source": [
    "## test on a model already usable download via tenserflow hub"
   ]
  },
  {
   "cell_type": "code",
   "execution_count": 19,
   "metadata": {},
   "outputs": [],
   "source": [
    "df = pd.read_csv('spam.csv', encoding=\"ISO-8859-1\")"
   ]
  },
  {
   "cell_type": "code",
   "execution_count": 20,
   "metadata": {},
   "outputs": [],
   "source": [
    "label = LabelEncoder()\n",
    "df['target'] = label.fit_transform(df['v1'])"
   ]
  },
  {
   "cell_type": "code",
   "execution_count": 21,
   "metadata": {},
   "outputs": [],
   "source": [
    "xtrain, xval, ytrain, yval = train_test_split(df[\"v2\"],df[\"target\"], test_size=0.3)\n",
    "\n",
    "train_data = tf.data.Dataset.from_tensor_slices((xtrain, ytrain))\n",
    "val_data = tf.data.Dataset.from_tensor_slices((xval, yval))"
   ]
  },
  {
   "cell_type": "code",
   "execution_count": 22,
   "metadata": {},
   "outputs": [
    {
     "name": "stdout",
     "output_type": "stream",
     "text": [
      "WARNING:tensorflow:Please fix your imports. Module tensorflow.python.training.tracking.data_structures has been moved to tensorflow.python.trackable.data_structures. The old module will be deleted in version 2.11.\n"
     ]
    }
   ],
   "source": [
    "# model embedding taken from tenserflow hub\n",
    "embedding = \"https://tfhub.dev/google/nnlm-en-dim128/2\"\n",
    "hub_layer = hub.KerasLayer(embedding, input_shape=[], \n",
    "                           dtype=tf.string, trainable=True)"
   ]
  },
  {
   "cell_type": "code",
   "execution_count": 31,
   "metadata": {},
   "outputs": [
    {
     "name": "stdout",
     "output_type": "stream",
     "text": [
      "Model: \"sequential_4\"\n",
      "_________________________________________________________________\n",
      " Layer (type)                Output Shape              Param #   \n",
      "=================================================================\n",
      " keras_layer (KerasLayer)    (None, 128)               124642688 \n",
      "                                                                 \n",
      " dense_9 (Dense)             (None, 32)                4128      \n",
      "                                                                 \n",
      " dense_10 (Dense)            (None, 16)                528       \n",
      "                                                                 \n",
      " dense_11 (Dense)            (None, 1)                 17        \n",
      "                                                                 \n",
      "=================================================================\n",
      "Total params: 124,647,361\n",
      "Trainable params: 124,647,361\n",
      "Non-trainable params: 0\n",
      "_________________________________________________________________\n"
     ]
    }
   ],
   "source": [
    "model_hub = tf.keras.Sequential()\n",
    "model_hub.add(hub_layer)\n",
    "model_hub.add(tf.keras.layers.Dense(32, activation='selu'))\n",
    "model.add(tf.keras.layers.Dropout(0.2))\n",
    "model_hub.add(tf.keras.layers.Dense(16, activation='relu'))\n",
    "model.add(tf.keras.layers.Dropout(0.2))\n",
    "model_hub.add(tf.keras.layers.Dense(1, activation='sigmoid'))\n",
    "\n",
    "model_hub.summary()"
   ]
  },
  {
   "cell_type": "code",
   "execution_count": null,
   "metadata": {},
   "outputs": [],
   "source": [
    "weights = 1/(df[\"target\"]).value_counts()\n",
    "weights = weights * len(df)/13\n",
    "weights = {index: values for index,\n",
    "            values in zip(weights.index, weights.values)}"
   ]
  },
  {
   "cell_type": "code",
   "execution_count": null,
   "metadata": {},
   "outputs": [],
   "source": [
    "Checkpoint_create = tf.keras.callbacks.ModelCheckpoint(\n",
    "                        filepath='model_hub_weights.hdf5',\n",
    "                        monitor='val_loss',\n",
    "                        verbose=1,\n",
    "                        save_best_only=True,\n",
    "                        save_weights_only=False,\n",
    "                        mode='auto',\n",
    "                        save_freq='epoch',\n",
    "                        period=1)"
   ]
  },
  {
   "cell_type": "code",
   "execution_count": 32,
   "metadata": {},
   "outputs": [],
   "source": [
    "model_hub.compile(optimizer='adam',\n",
    "              loss=tf.keras.losses.BinaryCrossentropy(from_logits=True),\n",
    "              metrics=['accuracy'])"
   ]
  },
  {
   "cell_type": "code",
   "execution_count": 33,
   "metadata": {},
   "outputs": [
    {
     "name": "stdout",
     "output_type": "stream",
     "text": [
      "Epoch 1/20\n"
     ]
    },
    {
     "name": "stderr",
     "output_type": "stream",
     "text": [
      "c:\\Users\\jerem\\AppData\\Local\\Programs\\Python\\Python310\\lib\\site-packages\\keras\\backend.py:5676: UserWarning: \"`binary_crossentropy` received `from_logits=True`, but the `output` argument was produced by a Sigmoid activation and thus does not represent logits. Was this intended?\n",
      "  output, from_logits = _get_logits(\n"
     ]
    },
    {
     "name": "stdout",
     "output_type": "stream",
     "text": [
      "8/8 [==============================] - 10s 1s/step - loss: 0.5481 - accuracy: 0.9018 - val_loss: 0.4180 - val_accuracy: 0.9593\n",
      "Epoch 2/20\n",
      "8/8 [==============================] - 9s 1s/step - loss: 0.2907 - accuracy: 0.9810 - val_loss: 0.2284 - val_accuracy: 0.9539\n",
      "Epoch 3/20\n",
      "8/8 [==============================] - 9s 1s/step - loss: 0.1343 - accuracy: 0.9805 - val_loss: 0.1531 - val_accuracy: 0.9587\n",
      "Epoch 4/20\n",
      "8/8 [==============================] - 9s 1s/step - loss: 0.0724 - accuracy: 0.9897 - val_loss: 0.1233 - val_accuracy: 0.9671\n",
      "Epoch 5/20\n",
      "8/8 [==============================] - 9s 1s/step - loss: 0.0436 - accuracy: 0.9962 - val_loss: 0.1058 - val_accuracy: 0.9725\n",
      "Epoch 6/20\n",
      "8/8 [==============================] - 9s 1s/step - loss: 0.0284 - accuracy: 0.9982 - val_loss: 0.0965 - val_accuracy: 0.9725\n",
      "Epoch 7/20\n",
      "8/8 [==============================] - 9s 1s/step - loss: 0.0200 - accuracy: 0.9997 - val_loss: 0.0916 - val_accuracy: 0.9731\n",
      "Epoch 8/20\n",
      "8/8 [==============================] - 9s 1s/step - loss: 0.0149 - accuracy: 0.9997 - val_loss: 0.0893 - val_accuracy: 0.9737\n",
      "Epoch 9/20\n",
      "8/8 [==============================] - 9s 1s/step - loss: 0.0114 - accuracy: 0.9997 - val_loss: 0.0883 - val_accuracy: 0.9737\n",
      "Epoch 10/20\n",
      "8/8 [==============================] - 9s 1s/step - loss: 0.0090 - accuracy: 1.0000 - val_loss: 0.0883 - val_accuracy: 0.9737\n",
      "Epoch 11/20\n",
      "8/8 [==============================] - 9s 1s/step - loss: 0.0073 - accuracy: 1.0000 - val_loss: 0.0888 - val_accuracy: 0.9737\n",
      "Epoch 12/20\n",
      "8/8 [==============================] - 9s 1s/step - loss: 0.0060 - accuracy: 1.0000 - val_loss: 0.0895 - val_accuracy: 0.9737\n",
      "Epoch 13/20\n",
      "8/8 [==============================] - 9s 1s/step - loss: 0.0051 - accuracy: 1.0000 - val_loss: 0.0902 - val_accuracy: 0.9725\n",
      "Epoch 14/20\n",
      "8/8 [==============================] - 9s 1s/step - loss: 0.0043 - accuracy: 1.0000 - val_loss: 0.0909 - val_accuracy: 0.9725\n",
      "Epoch 15/20\n",
      "8/8 [==============================] - 9s 1s/step - loss: 0.0037 - accuracy: 1.0000 - val_loss: 0.0915 - val_accuracy: 0.9725\n",
      "Epoch 16/20\n",
      "8/8 [==============================] - 9s 1s/step - loss: 0.0033 - accuracy: 1.0000 - val_loss: 0.0922 - val_accuracy: 0.9731\n",
      "Epoch 17/20\n",
      "8/8 [==============================] - 9s 1s/step - loss: 0.0029 - accuracy: 1.0000 - val_loss: 0.0930 - val_accuracy: 0.9737\n",
      "Epoch 18/20\n",
      "8/8 [==============================] - 9s 1s/step - loss: 0.0025 - accuracy: 1.0000 - val_loss: 0.0937 - val_accuracy: 0.9725\n",
      "Epoch 19/20\n",
      "8/8 [==============================] - 9s 1s/step - loss: 0.0023 - accuracy: 1.0000 - val_loss: 0.0944 - val_accuracy: 0.9725\n",
      "Epoch 20/20\n",
      "8/8 [==============================] - 9s 1s/step - loss: 0.0020 - accuracy: 1.0000 - val_loss: 0.0951 - val_accuracy: 0.9725\n"
     ]
    },
    {
     "data": {
      "text/plain": [
       "<keras.callbacks.History at 0x2154d1e05b0>"
      ]
     },
     "execution_count": 33,
     "metadata": {},
     "output_type": "execute_result"
    }
   ],
   "source": [
    "# train model\n",
    "model_hub.fit(train_data.shuffle(10000).batch(512),\n",
    "                epochs=20,\n",
    "                class_weight=weights,\n",
    "                validation_data=val_data.batch(512),\n",
    "                verbose=1,\n",
    "                callbacks=Checkpoint_create\n",
    "                )"
   ]
  },
  {
   "cell_type": "code",
   "execution_count": 34,
   "metadata": {},
   "outputs": [
    {
     "data": {
      "text/html": [
       "<div>\n",
       "<style scoped>\n",
       "    .dataframe tbody tr th:only-of-type {\n",
       "        vertical-align: middle;\n",
       "    }\n",
       "\n",
       "    .dataframe tbody tr th {\n",
       "        vertical-align: top;\n",
       "    }\n",
       "\n",
       "    .dataframe thead th {\n",
       "        text-align: right;\n",
       "    }\n",
       "</style>\n",
       "<table border=\"1\" class=\"dataframe\">\n",
       "  <thead>\n",
       "    <tr style=\"text-align: right;\">\n",
       "      <th></th>\n",
       "      <th>loss</th>\n",
       "      <th>accuracy</th>\n",
       "      <th>val_loss</th>\n",
       "      <th>val_accuracy</th>\n",
       "    </tr>\n",
       "  </thead>\n",
       "  <tbody>\n",
       "    <tr>\n",
       "      <th>0</th>\n",
       "      <td>0.548116</td>\n",
       "      <td>0.901795</td>\n",
       "      <td>0.418016</td>\n",
       "      <td>0.959330</td>\n",
       "    </tr>\n",
       "    <tr>\n",
       "      <th>1</th>\n",
       "      <td>0.290691</td>\n",
       "      <td>0.981026</td>\n",
       "      <td>0.228356</td>\n",
       "      <td>0.953947</td>\n",
       "    </tr>\n",
       "    <tr>\n",
       "      <th>2</th>\n",
       "      <td>0.134321</td>\n",
       "      <td>0.980513</td>\n",
       "      <td>0.153111</td>\n",
       "      <td>0.958732</td>\n",
       "    </tr>\n",
       "    <tr>\n",
       "      <th>3</th>\n",
       "      <td>0.072369</td>\n",
       "      <td>0.989744</td>\n",
       "      <td>0.123299</td>\n",
       "      <td>0.967105</td>\n",
       "    </tr>\n",
       "    <tr>\n",
       "      <th>4</th>\n",
       "      <td>0.043614</td>\n",
       "      <td>0.996154</td>\n",
       "      <td>0.105830</td>\n",
       "      <td>0.972488</td>\n",
       "    </tr>\n",
       "    <tr>\n",
       "      <th>5</th>\n",
       "      <td>0.028441</td>\n",
       "      <td>0.998205</td>\n",
       "      <td>0.096528</td>\n",
       "      <td>0.972488</td>\n",
       "    </tr>\n",
       "    <tr>\n",
       "      <th>6</th>\n",
       "      <td>0.019974</td>\n",
       "      <td>0.999744</td>\n",
       "      <td>0.091598</td>\n",
       "      <td>0.973086</td>\n",
       "    </tr>\n",
       "    <tr>\n",
       "      <th>7</th>\n",
       "      <td>0.014884</td>\n",
       "      <td>0.999744</td>\n",
       "      <td>0.089276</td>\n",
       "      <td>0.973684</td>\n",
       "    </tr>\n",
       "    <tr>\n",
       "      <th>8</th>\n",
       "      <td>0.011419</td>\n",
       "      <td>0.999744</td>\n",
       "      <td>0.088332</td>\n",
       "      <td>0.973684</td>\n",
       "    </tr>\n",
       "    <tr>\n",
       "      <th>9</th>\n",
       "      <td>0.009011</td>\n",
       "      <td>1.000000</td>\n",
       "      <td>0.088318</td>\n",
       "      <td>0.973684</td>\n",
       "    </tr>\n",
       "    <tr>\n",
       "      <th>10</th>\n",
       "      <td>0.007268</td>\n",
       "      <td>1.000000</td>\n",
       "      <td>0.088787</td>\n",
       "      <td>0.973684</td>\n",
       "    </tr>\n",
       "    <tr>\n",
       "      <th>11</th>\n",
       "      <td>0.006001</td>\n",
       "      <td>1.000000</td>\n",
       "      <td>0.089494</td>\n",
       "      <td>0.973684</td>\n",
       "    </tr>\n",
       "    <tr>\n",
       "      <th>12</th>\n",
       "      <td>0.005057</td>\n",
       "      <td>1.000000</td>\n",
       "      <td>0.090173</td>\n",
       "      <td>0.972488</td>\n",
       "    </tr>\n",
       "    <tr>\n",
       "      <th>13</th>\n",
       "      <td>0.004309</td>\n",
       "      <td>1.000000</td>\n",
       "      <td>0.090868</td>\n",
       "      <td>0.972488</td>\n",
       "    </tr>\n",
       "    <tr>\n",
       "      <th>14</th>\n",
       "      <td>0.003726</td>\n",
       "      <td>1.000000</td>\n",
       "      <td>0.091528</td>\n",
       "      <td>0.972488</td>\n",
       "    </tr>\n",
       "    <tr>\n",
       "      <th>15</th>\n",
       "      <td>0.003256</td>\n",
       "      <td>1.000000</td>\n",
       "      <td>0.092210</td>\n",
       "      <td>0.973086</td>\n",
       "    </tr>\n",
       "    <tr>\n",
       "      <th>16</th>\n",
       "      <td>0.002869</td>\n",
       "      <td>1.000000</td>\n",
       "      <td>0.092955</td>\n",
       "      <td>0.973684</td>\n",
       "    </tr>\n",
       "    <tr>\n",
       "      <th>17</th>\n",
       "      <td>0.002547</td>\n",
       "      <td>1.000000</td>\n",
       "      <td>0.093657</td>\n",
       "      <td>0.972488</td>\n",
       "    </tr>\n",
       "    <tr>\n",
       "      <th>18</th>\n",
       "      <td>0.002278</td>\n",
       "      <td>1.000000</td>\n",
       "      <td>0.094409</td>\n",
       "      <td>0.972488</td>\n",
       "    </tr>\n",
       "    <tr>\n",
       "      <th>19</th>\n",
       "      <td>0.002049</td>\n",
       "      <td>1.000000</td>\n",
       "      <td>0.095114</td>\n",
       "      <td>0.972488</td>\n",
       "    </tr>\n",
       "  </tbody>\n",
       "</table>\n",
       "</div>"
      ],
      "text/plain": [
       "        loss  accuracy  val_loss  val_accuracy\n",
       "0   0.548116  0.901795  0.418016      0.959330\n",
       "1   0.290691  0.981026  0.228356      0.953947\n",
       "2   0.134321  0.980513  0.153111      0.958732\n",
       "3   0.072369  0.989744  0.123299      0.967105\n",
       "4   0.043614  0.996154  0.105830      0.972488\n",
       "5   0.028441  0.998205  0.096528      0.972488\n",
       "6   0.019974  0.999744  0.091598      0.973086\n",
       "7   0.014884  0.999744  0.089276      0.973684\n",
       "8   0.011419  0.999744  0.088332      0.973684\n",
       "9   0.009011  1.000000  0.088318      0.973684\n",
       "10  0.007268  1.000000  0.088787      0.973684\n",
       "11  0.006001  1.000000  0.089494      0.973684\n",
       "12  0.005057  1.000000  0.090173      0.972488\n",
       "13  0.004309  1.000000  0.090868      0.972488\n",
       "14  0.003726  1.000000  0.091528      0.972488\n",
       "15  0.003256  1.000000  0.092210      0.973086\n",
       "16  0.002869  1.000000  0.092955      0.973684\n",
       "17  0.002547  1.000000  0.093657      0.972488\n",
       "18  0.002278  1.000000  0.094409      0.972488\n",
       "19  0.002049  1.000000  0.095114      0.972488"
      ]
     },
     "execution_count": 34,
     "metadata": {},
     "output_type": "execute_result"
    }
   ],
   "source": [
    "history_model_hub = pd.DataFrame(model_hub.history.history)\n",
    "history_model_hub"
   ]
  },
  {
   "cell_type": "code",
   "execution_count": 35,
   "metadata": {},
   "outputs": [
    {
     "data": {
      "image/png": "[encoded data removed]",
      "text/plain": [
       "<Figure size 640x480 with 1 Axes>"
      ]
     },
     "metadata": {},
     "output_type": "display_data"
    }
   ],
   "source": [
    "plt.plot(history_model_hub[\"loss\"], color=\"b\")\n",
    "plt.plot(history_model_hub[\"val_loss\"], color=\"r\")\n",
    "plt.ylabel(\"loss\")\n",
    "plt.xlabel(\"Epochs\")\n",
    "plt.show()"
   ]
  },
  {
   "cell_type": "code",
   "execution_count": 36,
   "metadata": {},
   "outputs": [
    {
     "data": {
      "image/png": "[encoded data removed]",
      "text/plain": [
       "<Figure size 640x480 with 1 Axes>"
      ]
     },
     "metadata": {},
     "output_type": "display_data"
    }
   ],
   "source": [
    "plt.plot(history_model_hub[\"accuracy\"], color=\"b\")\n",
    "plt.plot(history_model_hub[\"val_accuracy\"], color=\"r\")\n",
    "plt.ylabel(\"accuracy\")\n",
    "plt.xlabel(\"Epochs\")\n",
    "plt.show()"
   ]
  }
 ],
 "metadata": {
  "kernelspec": {
   "display_name": "Python 3.10.2 64-bit",
   "language": "python",
   "name": "python3"
  },
  "language_info": {
   "codemirror_mode": {
    "name": "ipython",
    "version": 3
   },
   "file_extension": ".py",
   "mimetype": "text/x-python",
   "name": "python",
   "nbconvert_exporter": "python",
   "pygments_lexer": "ipython3",
   "version": "3.10.2"
  },
  "orig_nbformat": 4,
  "vscode": {
   "interpreter": {
    "hash": "23e0aedb6d47e040503db7fcf09a0dff3cea72eb7d5d4c2596a602b1504b448c"
   }
  }
 },
 "nbformat": 4,
 "nbformat_minor": 2
}
